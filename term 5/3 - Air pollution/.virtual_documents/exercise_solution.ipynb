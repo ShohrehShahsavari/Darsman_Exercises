





import pandas as pd
import numpy as np
import matplotlib.pyplot as plt





df=pd.read_csv('E:/Python Projects/shohreh/Shohreh_GitHub_Repository/Darsman_Exercises/term 5/3 - Air pollution/Air_pollution_ dataset.csv', delimiter=';')
df.head(2)


df.info()






