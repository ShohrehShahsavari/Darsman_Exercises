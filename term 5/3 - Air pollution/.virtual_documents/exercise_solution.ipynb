





pip install missingno


import pandas as pd
import numpy as np
import matplotlib.pyplot as plt
import missingno as msno
import seaborn as sns





df=pd.read_csv('E:/Python Projects/shohreh/Shohreh_GitHub_Repository/Darsman_Exercises/term 5/3 - Air pollution/Air_pollution_ dataset.csv', delimiter=';')
df.head(2)


df.info()





df.shape


df.isnull().sum()


df.duplicated().sum()





# Missing values visualize with Matrix
msno.matrix(df)
plt.title('Number of Missing values in Dataset')
plt.show()





# Missing values visualize with Bar
msno.bar(df, color="skyblue")
plt.title("Number of Not NULL values in Dataset")
plt.show()





# Uniqe Values of each columns
pd.DataFrame(df.nunique(), columns=['Number of unique values'])


# function to return Top value number
def Value_count(col,Top_no=10):
    """
    Returns the top N unique values and their counts for a specified column.

    Parameters:
    - col (str): The column name for which to calculate value counts.
    - top_n (int): The number of top unique values to return (default is 10).

    Returns:
    - pd.DataFrame: A DataFrame containing the top N unique values and their counts.
    """
    return pd.DataFrame(df[col].value_counts()).head(Top_no)


Value_count('Time')


Value_count('CO(GT)',20)


df.describe().T








# Drop entirely null columns
df.dropna(axis=1, how='all', inplace=True)
df.isnull().sum()


# Drop entirely null columns
df.dropna(axis=1, how='all', inplace=True)
df.isnull().sum()


# Drop entirely null rows
df.dropna(axis=0, how='all', inplace=True)
df.info()


df.columns





df['Date']=pd.to_datetime(df['Date'], format= 'mixed')





# replace '.' with ':'  for modify format
df['Time']=df['Time'].str.replace('.', ':')

# change 'Time' column type to datetime and Hour
df['Time'] = pd.to_datetime(df['Time'], format='%H:%M:%S').dt.hour

# Rename columns from 'Time' to 'Hour'
df=df.rename(columns={ 'Time' : 'Hour' })





def change_columns_type (columns):
    '''
    Convert specified columns to numeric type, handling decimal separators.
    Parameters:
    -----------
    columns: List of column names to convert
    '''
    for col in columns:
        # replace ',' with '.' for each column
        df[col] = df[col].str.replace(',', '.')
        
        # change 'col' column type to float
        df[col] = df[col].astype('float')


change_columns_type(['CO(GT)', 'C6H6(GT)', 'T', 'RH', 'AH'])


df.info()





df.replace(-200, np.nan, inplace= True)
df.info()


df.isna().sum()





# Drop entirely 'NMHC(GT)' column
df.drop(columns=['NMHC(GT)'], axis=0, inplace=True)
df.isnull().sum()





## First try to fill null value of CO(GT) column
# df_Hour_CO = df.groupby('Hour')['CO(GT)'].mean()
# for i, row in df.iterrows():
#     if pd.isna(row['CO(GT)']):
#         df.at[i, 'CO(GT)'] = df_Hour_CO[row['Hour']]



# # Second try to fill null values of all float columns:
# def fill_null_float_column(df, columns):
#     for col in columns:
#         df_Hour = df.groupby('Hour')[col].mean()
#         for i, row in df.iterrows():
#             if pd.isna(row[col]):
#                 df.at[i, col] = df_Hour[row['Hour']]
#     return df

# columns = ['CO(GT)', 'PT08.S1(CO)', 'C6H6(GT)', 'PT08.S2(NMHC)','NOx(GT)', 'PT08.S3(NOx)', 'NO2(GT)', 'PT08.S4(NO2)','PT08.S5(O3)', 'T', 'RH', 'AH']
# df = fill_null_float_column(df, columns)


# Modifying code with Deepseek
for col in df.columns:
    if df[col].dtype == float:
        df[col] = df.groupby('Hour')[col].transform( lambda x: x.fillna(x.mean()))


df.info()








# # correlation reminiscent
# df.corr()
# df.corr()['CO(GT)']
fig=plt.subplots(figsize = (14,6))
sns.heatmap(df.corr(),annot = True, fmt = '.2f')
plt.show()





# identifying numeric columns
numeric_columns = df.select_dtypes(include=['float64']).columns
numeric_columns


# Create a 4x3 grid (15 subplots)
fig, axes = plt.subplots(nrows=4, ncols=3, figsize=(20, 20))
fig.suptitle("Boxplot for Numeric Columns", fontsize=16, y= 1.0)

# Plot each numeric column in a separate subplot
for ax, col in zip(axes.flat, numeric_columns):
    sns.boxplot(data=df, y=col, ax=ax) 
    ax.set_title(f'Boxplot of {col}')
    ax.set_xlabel(col)

plt.tight_layout()
plt.show()





# # scatter plot reminiscent
# plt.figure(figsize= (10,6))
# plt.scatter(df['CO(GT)'], df['NOx(GT)'], color= 'blue', alpha= 0.5)
# plt.xlabel('CO(GT)')
# plt.ylabel('NOx(GT)')
# plt.title('scatter plot')
# plt.show()


# # Get columns from numeric columns (excluding 'CO(GT)')
columns= [col for col in numeric_columns if col != 'CO(GT)']

# Create a 11x1 grid (11 subplots)
fig, axes = plt.subplots(nrows=11, ncols=1, figsize=(20, 60))
fig.suptitle("scatter plot for CO(GT) and Numeric Columns", fontsize=16, y= 1.0)

# Plot each numeric column in a separate subplot
for ax, col in zip(axes.flat, columns):
    sns.scatterplot(x= df[col], y= df['CO(GT)'], color= 'blue', alpha= 0.5, ax=ax) 
    ax.set_title(f'scatter plot of CO(GT) & {col}')
    ax.set_ylabel('CO(GT)')
    ax.set_xlabel(col)

plt.tight_layout()
plt.show()









# # his plot reminiscent
# skew= df['CO(GT)'].skew()
# kurt= df['CO(GT)'].kurtosis()
# plt.figure(figsize= (10,6))
# sns.histplot (df['CO(GT)'], edgecolor= 'black',bins= 100, kde= True)
# plt.text(8, 750, f'Skewness: {skew:.2f}', color='black')
# plt.text(8, 700, f'Kurtosis: {kurt:.2f}', color='black')
# plt.xlabel('CO(GT)')
# plt.ylabel('Count')
# plt.title('hist plot')
# plt.show()


# identifying numeric columns
numeric_columns = df.select_dtypes(include=['float64']).columns

# Create a 4*3 grid (12 subplots)
fig, axes = plt.subplots(nrows=4, ncols=3, figsize=(20, 20))
fig.suptitle("Histogram plot for all columns", fontsize=16, y= 1.0)

# Plot each column in a separate subplot
for ax, col in zip(axes.flat, numeric_columns):
    skew= df[col].skew()
    kurt= df[col].kurtosis()
    sns.histplot (df[col], edgecolor= 'black',bins= 100, kde= True, ax=ax)
    ax.text(0.8, 0.9, f'Skewness: {skew:.2f}', color='black', transform=ax.transAxes)
    ax.text(0.8, 0.8, f'Kurtosis: {kurt:.2f}', color='black', transform=ax.transAxes)
    ax.set_xlabel(col)
    ax.set_ylabel('Count')



plt.tight_layout()
plt.show()









