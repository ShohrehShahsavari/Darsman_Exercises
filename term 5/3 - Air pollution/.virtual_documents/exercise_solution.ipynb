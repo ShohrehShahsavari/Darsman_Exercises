





pip install missingno


import pandas as pd
import numpy as np
import matplotlib.pyplot as plt
import missingno as msno





df=pd.read_csv('E:/Python Projects/shohreh/Shohreh_GitHub_Repository/Darsman_Exercises/term 5/3 - Air pollution/Air_pollution_ dataset.csv', delimiter=';')
df.head(2)


df.info()





df.shape


df.isnull().sum()


df.duplicated().sum()





# Missing values visualize with Matrix
msno.matrix(df)
plt.title('Number of Missing values in Dataset')
plt.show()





# Missing values visualize with Bar
msno.bar(df, color="skyblue")
plt.title("Number of Not NULL values in Dataset")
plt.show()





# Drop entirely null columns
df.dropna(axis=1, how='all', inplace=True)
df.isnull().sum()


# Drop entirely null rows
df.dropna(axis=0, how='all', inplace=True)
df.info()



