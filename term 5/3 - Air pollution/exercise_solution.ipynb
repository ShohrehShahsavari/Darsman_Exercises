{
 "cells": [
  {
   "cell_type": "markdown",
   "metadata": {
    "id": "GlDsSc5JzI8h"
   },
   "source": [
    "<div dir=\"rtl\">\n",
    "    <font size=5 color=\"red\"> راهنمای تمرین:</font>\n",
    "    <br>\n",
    "    <p>\n",
    "        <font size=4>\n",
    "        این تمرین به گونه‌ای طراحی شده که شما باید کدهای خود را در قالب خاصی که از قبل مشخص شده، بنویسید. به این معنی که ممکن است بخشی از کد برای شما آماده باشد و شما باید فقط ادامه کد را بنویسید بدون اینکه آن قسمت از کد را تغییر دهید. این نوع تمرین برای کمک به شما طراحی شده تا در مراحل بعدی با چالش‌های پیچیده‌تری روبرو شوید که نیاز به مهارت‌های بیشتری دارند.\n",
    "        <br>\n",
    "        در این تمرین، در هر مرحله شما باید برداشت‌ها و تحلیل‌های خود را بنویسید. مثلاً اگر در کد شما نمودار یا جدولی از داده‌ها یا نتایج مدل‌ها به نمایش در می‌آید، شما باید توضیح دهید که آن‌ها چه معنی و کاربردی دارند. این تحلیل‌ها می‌تواند شامل بررسی تغییرات در داده‌ها، ارزیابی مدل‌ها، یا نتایج بهینه‌سازی‌ها باشد.\n",
    "        <br>\n",
    "        برای هر بخش، حداقل پنج نکته یا برداشت از نتایج یا داده‌ها باید بنویسید.\n",
    "        <br>\n",
    "            <li>\n",
    "            در قسمت ارزیابی , باید یافته ها و نکاتی که از تحلیل داده متوجه شده و دریافت کرده اید در قالب یک خلاصه گزارش , بنویسید.\n",
    "            </li>\n",
    "            <li>\n",
    "            برای هر نمودار یا جدول، تحلیل کنید که چه روندی را نشان می‌دهند یا آیا نکته خاصی برای بهبود مدل یا داده‌ها از آن‌ها قابل استخراج است.\n",
    "            </li>\n",
    "            <br>\n",
    "        مهم است که توجه داشته باشید شما باید فقط کدهای خود را اضافه کنید و قسمت‌هایی که از پیش نوشته شده‌اند، نباید تغییر کنند. هدف این است که شما بتوانید با استفاده از قالب و راهنمایی‌های داده شده، تمرین را به درستی تکمیل کنید.\n",
    "        </font>\n",
    "    </p>\n",
    "</div>\n",
    "<br>\n",
    "<br>"
   ]
  },
  {
   "cell_type": "markdown",
   "metadata": {
    "id": "2lmtieU22Wuv"
   },
   "source": [
    "<div dir=\"rtl\">\n",
    "    <font size=5 color=\"red\">\n",
    "    اهداف تمرین:\n",
    "    </font>\n",
    "    <font size=4>\n",
    "        <li>مقدار MSE باید کمتر از 0.20 باشد</li>\n",
    "        <li>مقدار R2 باید بیشتر از 0.85 باشد</li>\n",
    "        <li>مدل نهایی نباید Overfit/Underfit شده باشد.</li>\n",
    "    </font>\n",
    "\n",
    "</div>\n",
    "<br>\n",
    "<br>"
   ]
  },
  {
   "cell_type": "markdown",
   "metadata": {
    "id": "nNktlFS5o_I3"
   },
   "source": [
    "__________________"
   ]
  },
  {
   "cell_type": "markdown",
   "metadata": {
    "id": "VWNXp4Ay4t57"
   },
   "source": [
    "<div dir=\"rtl\">\n",
    "<font size=\"6\">\n",
    "    <li>\n",
    "    <strong>قدم اول: ارزیابی و شناخت دیتاست</strong>\n",
    "    </li>\n",
    "</font>\n",
    "<font size=\"4\">\n",
    "    در این قدم، شما باید دیتاست را بررسی کرده و ساختار آن را درک کنید. بررسی کنید که چه متغیرهایی در دیتاست وجود دارند، نوع داده‌ها چیست و آیا داده‌ها گمشده یا نادرست هستند یا خیر. این مرحله به شما کمک می‌کند که به‌طور کامل با داده‌ها آشنا شوید و مشکلات احتمالی را شناسایی کنید.\n",
    "</font>\n",
    "</div>\n",
    "<br>"
   ]
  },
  {
   "cell_type": "markdown",
   "metadata": {
    "id": "ZHzkOBn91txT"
   },
   "source": [
    "<div dir=\"rtl\">\n",
    "    <p>\n",
    "        <font size=4>\n",
    "            <li>\n",
    "            کتابخانه و ماژول های مورد نیاز برای قدم اول این تمرین را در محیط برنامه نویسی لود کنید:\n",
    "            </li>\n",
    "        </font>\n",
    "    </p>\n",
    "</div>"
   ]
  },
  {
   "cell_type": "code",
   "execution_count": null,
   "metadata": {
    "id": "22UVRWRH2Nbd"
   },
   "outputs": [],
   "source": [
    "# TODO: کتابخانه ها را ایمپورت کنید\n",
    "\n"
   ]
  },
  {
   "cell_type": "code",
   "execution_count": null,
   "metadata": {
    "id": "rcHzjRE3Hfvj"
   },
   "outputs": [],
   "source": [
    "# TODO: دیتافریم را لود کنید\n",
    "\n"
   ]
  },
  {
   "cell_type": "markdown",
   "metadata": {
    "id": "sOsTt5l60yqy"
   },
   "source": [
    "<div dir=\"rtl\">\n",
    "    <p>\n",
    "        <font size=4>\n",
    "            <li>\n",
    "            دیتافریم را ارزیابی کنید مثلا:\n",
    "            </li>\n",
    "            1. ابعاد دیتافریم\n",
    "            <br>\n",
    "            2. نوع دیتاتایپ و تعداد ویژگی های\n",
    "            <br>\n",
    "            3. داده های تکراری و NaN\n",
    "            <br>\n",
    "            4. ...\n",
    "        </font>\n",
    "    </p>\n",
    "</div>"
   ]
  },
  {
   "cell_type": "code",
   "execution_count": null,
   "metadata": {
    "id": "JP6esntgqrEU"
   },
   "outputs": [],
   "source": [
    "# TODO : بررسی چند ردیف اول دیتافریم\n"
   ]
  },
  {
   "cell_type": "code",
   "execution_count": null,
   "metadata": {
    "id": "8jpIR2CkWMIw"
   },
   "outputs": [],
   "source": [
    "# TODO: بررسی ابعاد دیتافریم\n"
   ]
  },
  {
   "cell_type": "code",
   "execution_count": null,
   "metadata": {
    "id": "in1LP0wG5lUN"
   },
   "outputs": [],
   "source": [
    "# TODO: بررسی اطلاعات کلی دیتافریم\n"
   ]
  },
  {
   "cell_type": "markdown",
   "metadata": {
    "id": "9G2qpt7j1rNq"
   },
   "source": [
    "### ارزیابی:\n",
    "1. ....\n",
    "2. ....\n",
    "3. ....\n",
    "4. ....\n",
    "5. ...."
   ]
  },
  {
   "cell_type": "markdown",
   "metadata": {
    "id": "3AvnbnBf2ImN"
   },
   "source": [
    "<div dir=\"rtl\">\n",
    "    <p>\n",
    "        <font size=4>\n",
    "            <li>\n",
    "                داده های تکراری (Duplicates) و داده های گم شده (Missing Values) را بررسی و ارزیابی کنید.\n",
    "                <strong>سپس مقادیر تکراری را حذف کنید.</strong>\n",
    "            </li>\n",
    "        </font>\n",
    "    </p>\n",
    "</div>"
   ]
  },
  {
   "cell_type": "code",
   "execution_count": null,
   "metadata": {
    "id": "bbOoKKT57cfI"
   },
   "outputs": [],
   "source": [
    "# TODO: بررسی مقادیر گم شده\n"
   ]
  },
  {
   "cell_type": "code",
   "execution_count": null,
   "metadata": {
    "id": "PL5PDc8n-z6q"
   },
   "outputs": [],
   "source": [
    "# TODO: بررسی داده های تکراری\n"
   ]
  },
  {
   "cell_type": "code",
   "execution_count": null,
   "metadata": {
    "id": "1Mfcyya0wDlG"
   },
   "outputs": [],
   "source": [
    "# حذف داده های تکراری\n"
   ]
  },
  {
   "cell_type": "markdown",
   "metadata": {
    "id": "Iqpxdzf12eVs"
   },
   "source": [
    "<div dir=\"rtl\">\n",
    "    <p>\n",
    "        <font size=4>\n",
    "            <li>\n",
    "                با کمک کتابخانه <code>missingno</code> مقادیر گم شده را مصورسازی کنید.\n",
    "            </li>\n",
    "        </font>\n",
    "    </p>\n",
    "</div>"
   ]
  },
  {
   "cell_type": "code",
   "execution_count": null,
   "metadata": {
    "id": "WVcJYT0h_rpE"
   },
   "outputs": [],
   "source": [
    "# TODO:  مصور سازی داده های گم شده\n",
    "import missingno\n",
    "\n"
   ]
  },
  {
   "cell_type": "markdown",
   "metadata": {
    "id": "eQNB8eNK23Rm"
   },
   "source": [
    "<div dir=\"rtl\">\n",
    "    <p>\n",
    "        <font size=4>\n",
    "            <li>\n",
    "                تعداد مقادیر یکتا (Unique) در هر ویژگی را بررسی کنید.\n",
    "            </li>\n",
    "        </font>\n",
    "    </p>\n",
    "</div>"
   ]
  },
  {
   "cell_type": "code",
   "execution_count": null,
   "metadata": {
    "id": "bXlcoNUvC0Gy"
   },
   "outputs": [],
   "source": [
    "# TODO: بررسی تعداد داده های منحصر بفرد و یکتا در هر ویژگی\n",
    "\n"
   ]
  },
  {
   "cell_type": "markdown",
   "metadata": {
    "id": "PTaLd0GW3A_p"
   },
   "source": [
    "<div dir=\"rtl\">\n",
    "    <p>\n",
    "        <font size=4>\n",
    "            <li>\n",
    "                جدول Describe را برای این دیتافریم بررسی کنیدو ارزیابی اولیه خودتان را در مورد این دیتافریم بنویسید.\n",
    "                در ادامه که نمونه از ارزیابی اولیه برای شما نوشته شده است که لازم است با آن توجه داشته باشید\n",
    "            </li>\n",
    "        </font>\n",
    "    </p>\n",
    "</div>"
   ]
  },
  {
   "cell_type": "code",
   "execution_count": null,
   "metadata": {
    "id": "z2NrOlX7FbeA"
   },
   "outputs": [],
   "source": [
    "# TODO: بررسی اطلاعات آمار و احتمالاتی دیتاست\n",
    "\n"
   ]
  },
  {
   "cell_type": "markdown",
   "metadata": {
    "id": "FE23x8g63q8i"
   },
   "source": [
    "### ارزیابی:\n",
    "1. اکثر ستون‌ها 9357 مقدار معتبر دارند، اما برخی شامل مقدار -200 هستند که احتمالاً نشان‌دهنده داده‌های نامعتبر یا مقادیر گمشده است.\n",
    "2. ...\n",
    "3. ...\n",
    "4. ...\n",
    "5. ..."
   ]
  },
  {
   "cell_type": "markdown",
   "metadata": {
    "id": "h8vFbe4M33oH"
   },
   "source": [
    "<div dir=\"rtl\">\n",
    "    <p>\n",
    "        <font size=4>\n",
    "            <li>\n",
    "            با توجه به توضیحات که ما برای شما در ارزیابی جدول آمار احتمالاتی نوشته ایم , تعداد مقادیر نویزی و نامعتبر در هر ویژگی را اندازه  گیری کنید.\n",
    "            خروجی مورد انتظار به صورت زیر است اما توجه داشته باشید مقادیری که شما به دست میاورید متفاوت خواهد بود.\n",
    "            </li>\n",
    "        </font>\n",
    "    </p>\n",
    "</div>"
   ]
  },
  {
   "cell_type": "markdown",
   "metadata": {
    "id": "NXu_7FJu5-Mi"
   },
   "source": [
    "```code\n",
    "تعداد مقادیر غیرواقعی (کمتر از0 ) در هر ستون:\n",
    "PT08.S1(CO)       100\n",
    "NMHC(GT)         33\n",
    "PT08.S2(NMHC)     67\n",
    ".\n",
    ".\n",
    ".\n",
    "```"
   ]
  },
  {
   "cell_type": "code",
   "execution_count": null,
   "metadata": {
    "id": "JcdjNsqQIZGg"
   },
   "outputs": [],
   "source": [
    "# TODO: بررسی تعداد مقادیر نامعتبر در ستون‌های عددی\n",
    "\n"
   ]
  },
  {
   "cell_type": "markdown",
   "metadata": {
    "id": "TTnZtk3y4HEE"
   },
   "source": [
    "<div dir=\"rtl\">\n",
    "    <p>\n",
    "        <font size=4, color=\"red\">\n",
    "            <li>\n",
    "                <strong>\n",
    "                    در خصوص عدد <code>-200</code> که به کرات در این دیتافریم دیده می شود تحقیق کنید و نتیجه تحقیق خود را در قسمت پایین بنویسید:\n",
    "                </strong>\n",
    "            </li>\n",
    "        </font>\n",
    "    </p>\n",
    "</div>"
   ]
  },
  {
   "cell_type": "markdown",
   "metadata": {
    "id": "qfRlTp9EcIuR"
   },
   "source": [
    "###  نتیحه ارزیابی در خصوص اعداد -200:\n",
    "1. ...\n",
    "2. ...\n",
    "3. ..."
   ]
  },
  {
   "cell_type": "markdown",
   "metadata": {
    "id": "U6QmcUzfkSGA"
   },
   "source": [
    "\n",
    "<div dir=\"rtl\">\n",
    "<font size=\"6\">\n",
    "    <li>\n",
    "    <strong>قدم دوم: پیش‌پردازش داده‌ها</strong>\n",
    "    </li>\n",
    "</font>\n",
    "<font size=\"4\">\n",
    "    در این مرحله، شما باید داده‌ها را با استفاده از نمودارها و آمار توصیفی تحلیل کنید. بررسی توزیع متغیرها، همبستگی بین ویژگی‌ها و شناسایی داده‌های پرت به درک بهتر الگوهای موجود در دیتاست کمک می‌کند.\n",
    "</font>\n",
    "</div>\n",
    "<br>"
   ]
  },
  {
   "cell_type": "code",
   "execution_count": null,
   "metadata": {
    "id": "Rl2o2RkUlWmM"
   },
   "outputs": [],
   "source": [
    "# در ابتدا یک کپی از دیتافریم اصلی میگیریم.\n",
    "df_copy = df.copy()"
   ]
  },
  {
   "cell_type": "markdown",
   "metadata": {
    "id": "KgWXYbny1JRb"
   },
   "source": [
    "<div dir=\"rtl\">\n",
    "    <font size=4>\n",
    "        <li>\n",
    "            Datatype هارو اصلاح کنید.\n",
    "        </li>\n",
    "    </font>\n",
    "\n",
    "\n",
    "</div>\n",
    "<br>"
   ]
  },
  {
   "cell_type": "code",
   "execution_count": null,
   "metadata": {
    "id": "HgWpR8gtmfSw"
   },
   "outputs": [],
   "source": [
    "def clean_and_convert(df):\n",
    "    \"\"\"\n",
    "    این متد را تکمیل کنید تا داده‌های ورودی را پاک‌سازی و تبدیل کند.\n",
    "\n",
    "    وظایف مورد انتظار:\n",
    "    1. تبدیل ستون 'Date' به فرمت datetime\n",
    "       - ستون 'Date' را به فرمت `datetime` تبدیل کنید.\n",
    "       - در صورت وجود خطا، مقدار نامعتبر را `NaT` قرار دهید.\n",
    "\n",
    "    2. استخراج ساعت از ستون 'Time'\n",
    "       - فرض کنید مقادیر این ستون به‌صورت 'hh.mm.ss' هستند.\n",
    "       - مقدار ساعت را از این رشته استخراج کرده و به فرمت `float` تبدیل کنید.\n",
    "       - نام ستون جدید را 'Hour' بگذارید.\n",
    "\n",
    "    3. تبدیل مقادیر عددی در ستون‌های متنی\n",
    "       - ابتدا، ستون‌هایی را که نوع داده آن‌ها `object` است شناسایی کنید.\n",
    "       - بررسی کنید که آیا این ستون‌ها دارای مقدار عددی با کاما به‌جای نقطه هستند.\n",
    "       - در صورت وجود، کاما را به نقطه تبدیل کنید و مقدار نهایی را به `float` تغییر دهید.\n",
    "\n",
    "    در نهایت، دیتافریم اصلاح‌شده را بازگردانید.\n",
    "    \"\"\"\n",
    "    pass  # TODO\n",
    "\n",
    "# اعمال متد روی دیتاست\n",
    "df_copy = clean_and_convert(df_copy)"
   ]
  },
  {
   "cell_type": "code",
   "execution_count": null,
   "metadata": {
    "id": "j_h8ZBfqn6jM"
   },
   "outputs": [],
   "source": [
    "# TODO: مجددا نوع داده هارو بررسی کنید تا از تغییرات مد نظر مطمئن شوید.\n"
   ]
  },
  {
   "cell_type": "markdown",
   "metadata": {
    "id": "-XlALRAe03LU"
   },
   "source": [
    "<div dir=\"rtl\">\n",
    "    <font size=4>\n",
    "        <li>\n",
    "            اگر دیتافریم شامل ستونی است که برای تحلیل و مدل سازی ما مناسب نیست آن را حذف کنید.\n",
    "        </li>\n",
    "    </font>\n",
    "</div>"
   ]
  },
  {
   "cell_type": "code",
   "execution_count": null,
   "metadata": {
    "id": "YEE9jvfCfJ9r"
   },
   "outputs": [],
   "source": [
    "# TODO: حذف ستون نامعتبر\n",
    "\n"
   ]
  },
  {
   "cell_type": "markdown",
   "metadata": {
    "id": "PBjWAw25yp-F"
   },
   "source": [
    "<div dir=\"rtl\">\n",
    "    <font size=4>\n",
    "        حالا که متوجه شدیم دیتافریم ما دارای نویز است\n",
    "        بهترین راه حل را برای مواجه با این مشکل پیدا کنید و آن را پیاده سازی کنید    \n",
    "        <br>\n",
    "        منظور اعداد -200 است. در این قسمت شما باید تصیمیم بگیرید بهترین روش برخورد با این مقدار چیه.\n",
    "        <br>\n",
    "        قبل از انجام هر کاری مطمئن شوید که تحقیقات کامل درمورد دلیل وجود این عداد کرده باشید.\n",
    "    </font>\n",
    "</div>"
   ]
  },
  {
   "cell_type": "code",
   "execution_count": null,
   "metadata": {
    "id": "GIVfFSL4yacw"
   },
   "outputs": [],
   "source": [
    "# TODO : مشکل اعداد -200 را برطرف کنید.\n",
    "\n"
   ]
  },
  {
   "cell_type": "markdown",
   "metadata": {
    "id": "AZJphU6B7taw"
   },
   "source": [
    "<div dir=\"rtl\">\n",
    "    <font size=4>\n",
    "        <li>\n",
    "        نمودار هیت مپ داده های گم شده (Missing Values) را به کمک ماژول Seaborn رسم کنید و ارزیابی خودتان را بنویسید\n",
    "        </li>\n",
    "        <br>\n",
    "        راهنمایی: از نمودار Heatmap استفاده کنید.\n",
    "    </font>\n",
    "</div>\n",
    "<br>"
   ]
  },
  {
   "cell_type": "code",
   "execution_count": null,
   "metadata": {
    "id": "ZIxj6xyU3xX4"
   },
   "outputs": [],
   "source": [
    "# TODO: نمودار پراکندگی داده های گمشده را رسم کنید.\n",
    "\n"
   ]
  },
  {
   "cell_type": "markdown",
   "metadata": {
    "id": "IofRLMS284Ye"
   },
   "source": [
    "### ارزیابی:\n",
    "1. ...\n",
    "2. ...\n",
    "3. ..."
   ]
  },
  {
   "cell_type": "markdown",
   "metadata": {
    "id": "L1EsmqIy1YOx"
   },
   "source": [
    "<div dir=\"rtl\">\n",
    "    <font size=4>\n",
    "    <li>\n",
    "        .حل مشکل داده های گم شده\n",
    "        راه حلی برای برخورد با مقادیر گم شده پیدا و آن را پیاده سازی کنید\n",
    "    </li>\n",
    "    </font>\n",
    "</div>"
   ]
  },
  {
   "cell_type": "code",
   "execution_count": null,
   "metadata": {
    "id": "axCge4C4ZCnc"
   },
   "outputs": [],
   "source": [
    "# TODO : مقادیر گم شده را مدیریت کنیئ\n",
    "\n"
   ]
  },
  {
   "cell_type": "code",
   "execution_count": null,
   "metadata": {
    "id": "Pv8GaFE-cd20"
   },
   "outputs": [],
   "source": [
    "# TODO : مقادیر گم شده را مدیریت کنیئ\n",
    "\n"
   ]
  },
  {
   "cell_type": "code",
   "execution_count": null,
   "metadata": {
    "id": "8owgyYiIdrcF"
   },
   "outputs": [],
   "source": [
    "# TODO : مقادیر گم شده را مدیریت کنیئ\n",
    "\n"
   ]
  },
  {
   "cell_type": "markdown",
   "metadata": {
    "id": "GxkKZ7ZOt3pd"
   },
   "source": [
    "<div dir=\"rtl\">\n",
    "<font size=\"6\">\n",
    "    <li>\n",
    "    <strong>قدم سوم: مصورسازی و بررسی متغیرها</strong>\n",
    "    </li>\n",
    "</font>\n",
    "<font size=\"4\">\n",
    "                    در این قدم، شما باید با استفاده از ابزارهای مصورسازی مانند نمودارهای پراکندگی (Scatter plots)، هیستوگرام‌ها و نمودارهای جعبه‌ای (Box plots)، روابط بین ویژگی‌ها و هدف را بررسی کنید. این مرحله به شما کمک می‌کند که روابط پنهان میان متغیرها را شناسایی کنید و درک بهتری از داده‌ها پیدا کنید.\n",
    "                    شما میتوانید هرگونه مصورسازی که فکر می کنید در این مرحله اطلاعاتی به شما میدهد را انجام دهید. <br>\n",
    "                    <font color=\"red\">ولی پیاده سازی پلات های خواسته شده الزامی می باشد.</font>\n",
    "</font>\n",
    "</div>\n",
    "<br>"
   ]
  },
  {
   "cell_type": "markdown",
   "metadata": {
    "id": "ibN3hOtS7wBX"
   },
   "source": [
    "<div dir=\"rtl\">\n",
    "    <font size=4>\n",
    "        <li>\n",
    "        توزیع (Distribution) تمامی داده های عددی را بررسی کنید و موارد و نکات مهمی که از این توزیع ها دریافت کرده ایید را در قسمت ارزیابی بنویسید.\n",
    "    </font>\n",
    "</div>\n",
    "<br>"
   ]
  },
  {
   "cell_type": "code",
   "execution_count": null,
   "metadata": {
    "id": "hZhKnnRnXhXp"
   },
   "outputs": [],
   "source": [
    "# TODO : توزیع ویژگی های عددی را بررسی کنید\n",
    "\n"
   ]
  },
  {
   "cell_type": "markdown",
   "metadata": {
    "id": "4QV1cKj3-drN"
   },
   "source": [
    "###  ارزیابی:\n",
    "1. .....\n",
    "2. .....\n",
    "3. ....\n",
    "4. ....\n",
    "5. ...."
   ]
  },
  {
   "cell_type": "markdown",
   "metadata": {
    "id": "KRNARIg_uzh6"
   },
   "source": [
    "<div dir=\"rtl\">\n",
    "    <font size=4>\n",
    "        <li>\n",
    "            نمودار پراکندگی داده ایی (Scatter Plot) عدد به نسبت داده های ویژگی هدف را بررسی کنید و نکات مهمی را که از این نمودار ها متوجه شده ایید را در قسمت ارزیابی بنویسید.\n",
    "        </li>\n",
    "        <font color=\"red\">\n",
    "        توجه داشته باشید که باید متد زیر را کامل کنید. به توضیحات Docstring تابع توجه کنید.\n",
    "        </font>\n",
    "    </font>\n",
    "</div>\n",
    "<br>"
   ]
  },
  {
   "cell_type": "code",
   "execution_count": null,
   "metadata": {
    "id": "mH-f39rDskh6"
   },
   "outputs": [],
   "source": [
    "# TODO: نمودار Scatter را برای داده های عددی رسم کنید\n",
    "def plot_scatter_separately(df, target_variable):\n",
    "    \"\"\"\n",
    "    این متد را تکمیل کنید تا نمودارهای پراکندگی برای هر ویژگی عددی با متغیر هدف رسم کند.\n",
    "\n",
    "    وظایف مورد انتظار:\n",
    "    1. بررسی وجود متغیر هدف:\n",
    "       - ابتدا بررسی کنید که متغیر هدف در دیتافریم موجود باشد.\n",
    "       - اگر متغیر هدف وجود نداشته باشد، باید یک خطا با پیامی مناسب صادر کنید.\n",
    "\n",
    "    2. انتخاب ویژگی‌های عددی:\n",
    "       - ویژگی‌های عددی (بر اساس نوع داده `number`) را از دیتافریم استخراج کنید.\n",
    "       - متغیر هدف را از لیست ویژگی‌های عددی حذف کنید.\n",
    "\n",
    "    3. رسم نمودار پراکندگی برای هر ویژگی:\n",
    "       - برای هر ویژگی عددی باقی‌مانده، یک نمودار پراکندگی با استفاده از کتابخانه‌های `matplotlib` و `seaborn` رسم کنید.\n",
    "       - در این نمودار، محور x ویژگی عددی و محور y متغیر هدف باشد.\n",
    "       - برای هر نمودار، عنوان مناسب و برچسب‌های محور x و y را تنظیم کنید.\n",
    "       - نمودارها باید به‌صورت جداگانه نمایش داده شوند.\n",
    "\n",
    "    پس از تکمیل این متد، می‌توانید آن را برای رسم نمودارهای پراکندگی برای ویژگی‌های مختلف در دیتافریم استفاده کنید.\n",
    "    \"\"\"\n",
    "    pass  # TODO\n",
    "\n",
    "plot_scatter_separately(df_copy, 'CO(GT)')"
   ]
  },
  {
   "cell_type": "markdown",
   "metadata": {
    "id": "t0p3sadv8HEe"
   },
   "source": [
    "###  ارزیابی:\n",
    "1. .....\n",
    "2. .....\n",
    "3. ....\n",
    "4. ....\n",
    "5. ...."
   ]
  },
  {
   "cell_type": "markdown",
   "metadata": {
    "id": "qhggKrwp_JVU"
   },
   "source": [
    "<div dir=\"rtl\">\n",
    "    <font size=4>\n",
    "        <li>\n",
    "               Boxplotیکی از روش های بررسی برای وجود داده های پرت است. البته Boxplot کاربردی های بسیاری دارد مانند بررسی نسبت داده های عددی با داده های دسته ایی.\n",
    "        </li>\n",
    "    </font>\n",
    "</div>\n",
    "<br>"
   ]
  },
  {
   "cell_type": "code",
   "execution_count": null,
   "metadata": {
    "id": "vySRepwYryHg"
   },
   "outputs": [],
   "source": [
    "# TODO: نمودار های Boxplot را رسم کنید\n",
    "\n"
   ]
  },
  {
   "cell_type": "markdown",
   "metadata": {
    "id": "wNyvnvqU2F9y"
   },
   "source": [
    "###  ارزیابی:\n",
    "1. .....\n",
    "2. .....\n",
    "3. ....\n",
    "4. ....\n",
    "5. ...."
   ]
  },
  {
   "cell_type": "markdown",
   "metadata": {
    "id": "DiInzmTOxZdB"
   },
   "source": [
    "<div dir=\"rtl\">\n",
    "    <font size=5>\n",
    "    <li>مدیریت مقادیر های پرت (Outliers)</li>\n",
    "    </font>\n",
    "</div>"
   ]
  },
  {
   "cell_type": "markdown",
   "metadata": {
    "id": "pTWVn3ePB4u7"
   },
   "source": [
    "<div dir=\"rtl\">\n",
    "    <font size=4>\n",
    "        تا به امروز از روش های مختلفی برای مدیریت داده های پرت مانند IQR و Z-Score استفاده کرده ایم. در این جا میخواهیم از روشی به نام Winsorize برای مدیریت این نوع از داده ها استفاده کنیم. به توضیحات داده شده در Docstring تابع زیر توجه کنید و تابع را کامل کنید.  برای مطالعه درباره ی Winsorization به لینک های زیر مراجعه نمایید.\n",
    "    </font>\n",
    "</div>\n",
    "<br>"
   ]
  },
  {
   "cell_type": "markdown",
   "metadata": {
    "id": "MyAtZ-9YB7Y2"
   },
   "source": [
    "[Winsorized Mean - DataCamp](https://www.datacamp.com/tutorial/winsorized-mean)\n",
    "\n",
    "[scipy.stats.mstats.winsorize - SciPy Documentation](https://docs.scipy.org/doc/scipy/reference/generated/scipy.stats.mstats.winsorize.html)"
   ]
  },
  {
   "cell_type": "code",
   "execution_count": null,
   "metadata": {
    "id": "2ZkFV_YhsLSA"
   },
   "outputs": [],
   "source": [
    "from ..... import .....\n",
    "\n",
    "# TODO: مدیریت داده های پرت\n",
    "def winsorize_and_handle_missing(df, cols, limits=[0.05, 0.05]):\n",
    "    \"\"\"\n",
    "    این متد را تکمیل کنید تا برای هر ستون خاص از دیتافریم، داده‌های گمشده را شناسایی و آن‌ها را با مقادیر Winsorized جایگزین کنید.\n",
    "\n",
    "    وظایف مورد انتظار:\n",
    "    1. کپی‌برداری از دیتافریم:\n",
    "       - یک کپی از دیتافریم ورودی ایجاد کنید تا تغییرات در دیتافریم اصلی ایجاد نشود.\n",
    "    2. اعمال Winsorization:\n",
    "       - برای هر ستون، از روش `winsorize` استفاده کنید تا داده‌ها را با مقادیر Winsorized در بازه‌های مشخص‌شده (با استفاده از آرگومان `limits`) جایگزین کنید.\n",
    "\n",
    "    پس از تکمیل این متد، می‌توانید آن را برای اعمال Winsorization و مدیریت داده‌های گمشده در دیتافریم خود استفاده کنید.\n",
    "    \"\"\"\n",
    "    pass  # TODO"
   ]
  },
  {
   "cell_type": "code",
   "execution_count": null,
   "metadata": {
    "id": "dwvAJV3tsLOs"
   },
   "outputs": [],
   "source": [
    "# TODO: مدیریت داده های پرت\n",
    "\n"
   ]
  },
  {
   "cell_type": "markdown",
   "metadata": {
    "id": "oYe2svvh-4cp"
   },
   "source": [
    "<br>\n",
    "<div dir=\"rtl\">\n",
    "<font size=\"4\">\n",
    "    <li>\n",
    "    <strong>نمودار Heatmap را برای این دیتافریم رسم کنید </strong>\n",
    "    </li>\n",
    "</font>\n",
    "</div>\n",
    "<br>"
   ]
  },
  {
   "cell_type": "code",
   "execution_count": null,
   "metadata": {
    "id": "aHbg7B19_HUW"
   },
   "outputs": [],
   "source": [
    "# TODO: نمودار هیت مپ را بررسی کنید\n",
    "\n"
   ]
  },
  {
   "cell_type": "markdown",
   "metadata": {
    "id": "asn72qmP8k8J"
   },
   "source": [
    "###  ارزیابی:\n",
    "1. ....\n",
    "2. ....\n",
    "3. ...."
   ]
  },
  {
   "cell_type": "markdown",
   "metadata": {
    "id": "ov6F4eo7-VFg"
   },
   "source": [
    "<br>\n",
    "<div dir=\"rtl\">\n",
    "<font size=\"6\">\n",
    "    <li>\n",
    "    <strong>قدم چهارم: مهندسی و انتخاب ویژگی</strong>\n",
    "    </li>\n",
    "</font>\n",
    "<font size=4>\n",
    "    در این مرحله، ویژگی‌های مناسب برای مدل‌سازی انتخاب شده و ویژگی‌های غیرضروری حذف یا اصلاح می‌شوند. مهندسی ویژگی شامل ایجاد ویژگی‌های جدید، تبدیل داده‌های دسته‌ای به عددی و ... است. هدف این مرحله بهبود عملکرد مدل با انتخاب ویژگی‌های تأثیرگذار و کاهش پیچیدگی داده‌ها است.\n",
    "</font>\n",
    "</div>\n",
    "<br>"
   ]
  },
  {
   "cell_type": "markdown",
   "metadata": {
    "id": "dfrlRDBaB0IL"
   },
   "source": [
    "<div dir=\"rtl\">\n",
    "    <font size=\"4\">\n",
    "        هدف این بخش، تحلیل همبستگی چندجمله‌ای و انتخاب ویژگی در این مرحله شما باید:\n",
    "    </font><br>\n",
    "    <font size=\"5\">\n",
    "        1. تحلیل همبستگی چندجمله‌ای:\n",
    "    </font><br>\n",
    "    <font size=\"4\">\n",
    "            <li>متدی بنویسید که ویژگی‌هایی که چند همبستگی (Multicollinearity) دارند را پیدا کرده و فقط یکی از آن‌ها را انتخاب کند.</li>\n",
    "            <font color=\"red\">نکته : از تحلیل واریانس برای این قسمت نیز استفاده کنید.</font>\n",
    "    </font>\n",
    "    <br>\n",
    "    <br>\n",
    "    <font size=\"5\">\n",
    "        2. انتخاب ویژگی با Mutual Information:\n",
    "    </font><br>\n",
    "    <font size=\"4\">\n",
    "            <li>ویژگی‌هایی را با کمک روش Mutual Information انتخاب کنید.</li>\n",
    "    </font>\n",
    "        <br>\n",
    "    <font size=\"5\">\n",
    "        3.مهندسی ویژگی یا Feature Engineering\n",
    "    </font><br>\n",
    "    <font size=\"4\">\n",
    "            <li>سعی کنید از ویژگی ها موجود , تعدای ویژگی جدید ایجاد کنید یا آنها را ترکیب کنید.</li>\n",
    "    </font>\n",
    "</div>\n"
   ]
  },
  {
   "cell_type": "code",
   "execution_count": null,
   "metadata": {
    "id": "ODJ6O9FlS2hm"
   },
   "outputs": [],
   "source": [
    "# TODO: کتابخانه های مورد نیاز را ایمپورت کنید\n",
    "\n"
   ]
  },
  {
   "cell_type": "code",
   "execution_count": null,
   "metadata": {
    "id": "SYcJamzsl7pC"
   },
   "outputs": [],
   "source": [
    "# TODO : متدی بتویسید که همبستگی چند جمله ایی را بررسی و مدیریت کند (Multicolinearity)\n",
    "\n"
   ]
  },
  {
   "cell_type": "code",
   "execution_count": null,
   "metadata": {
    "id": "XocnV7110nmp"
   },
   "outputs": [],
   "source": [
    "# TODO : ویژگی هایی را به کمک روش Mutual Info انتخاب کنید.\n",
    "\n"
   ]
  },
  {
   "cell_type": "markdown",
   "metadata": {
    "id": "v_Qru_a54io6"
   },
   "source": [
    "<br>\n",
    "<div dir=\"rtl\">\n",
    "<font size=\"6\">\n",
    "    <li>\n",
    "    <strong>قدم پنجم: مدل‌سازی اولیه</strong>\n",
    "    </li>\n",
    "</font>\n",
    "<font size=\"4\">\n",
    "    در این مرحله چند مدل را به‌صورت ساده آموزش می‌دهیم و در نهایت از بین آن‌ها ۱ الی ۲ مدل که بهترین عملکرد را دارند انتخاب می‌کنیم.\n",
    "</font>\n",
    "</div>\n",
    "<br>"
   ]
  },
  {
   "cell_type": "markdown",
   "metadata": {
    "id": "2DNAX9vQ-2Zl"
   },
   "source": [
    "<div dir=\"rtl\">\n",
    "    <font size=4>\n",
    "        <li>\n",
    "            <strong>ارزیابی اولیه عملکرد</strong> چند مدل پایه (به انتخاب شما) با معیارهای\n",
    "            <strong>MAE، MSE و R²</strong>.\n",
    "            <br>\n",
    "            در این مرحله چندین مدل مختلف را انتخاب کنید و آنها را روی داده‌های آموزشی و آزمایشی اجرا کنید. سپس عملکرد هر مدل را بر اساس معیارهای Mean Absolute Error (MAE)، Mean Squared Error (MSE) و ضریب تعیین (R²) بررسی کنید تا مشخص شود کدام مدل‌ها خطای کمتری دارند.\n",
    "        </li>\n",
    "        <br>\n",
    "        <li>\n",
    "            <strong>مقایسه تعمیم‌پذیری مدل‌ها</strong> با استفاده از نمودارهای\n",
    "            <strong>Learning Curve</strong>.\n",
    "            <br>\n",
    "            برای بررسی میزان تعمیم‌پذیری هر مدل، از نمودارهای Learning Curve استفاده کنید. این نمودار نشان می‌دهد که مدل شما چگونه با افزایش داده‌های آموزشی بهبود پیدا می‌کند و آیا دچار overfitting یا underfitting شده است. این تحلیل به شما کمک می‌کند تا مدل‌هایی را که عملکرد پایدارتری دارند شناسایی کنید.\n",
    "        </li>\n",
    "        <br>\n",
    "        <li>\n",
    "            <strong>شناسایی یک یا دو مدل برتر</strong> بر اساس کمترین خطای تست و بهترین تعمیم‌پذیری.\n",
    "            <br>\n",
    "            پس از ارزیابی مدل‌ها و مقایسه آنها با معیارهای ذکرشده، یک یا دو مدل که کمترین خطای تست را دارند و بهترین تعمیم‌پذیری را نشان می‌دهند انتخاب کنید. این مدل‌ها باید هم روی داده‌های آموزش و هم روی داده‌های آزمایش عملکرد مناسبی داشته باشند.\n",
    "        </li>\n",
    "        <br>\n",
    "        <li>\n",
    "            <strong>انتخاب مدل‌های مناسب</strong> برای بهینه‌سازی و تنظیم‌های بعدی بر اساس نتایج اولیه.\n",
    "            <br>\n",
    "            در نهایت، مدل‌هایی که در مراحل قبل عملکرد خوبی داشته‌اند را برای مرحله بهینه‌سازی انتخاب کنید. این مدل‌ها در مراحل بعدی با استفاده از روش‌هایی مانند تنظیم هایپرپارامترها (Hyperparameter Tuning) بهبود داده می‌شوند تا به بالاترین دقت ممکن برسند.\n",
    "        </li>\n",
    "        <br>\n",
    "        در ادامه منابعی برای مطالعه بیشتر در مورد منحنی یادگیری Learning Curve:\n",
    "    </font>\n",
    "</div>\n"
   ]
  },
  {
   "cell_type": "markdown",
   "metadata": {
    "id": "79DQQMsN3RgC"
   },
   "source": [
    "[Learning Curves Tutorial](https://www.datacamp.com/tutorial/tutorial-learning-curves)"
   ]
  },
  {
   "cell_type": "markdown",
   "metadata": {
    "id": "UcmbO2eR9KaA"
   },
   "source": [
    "<div dir=\"rtl\">\n",
    "    <font size=5 color=\"red\">\n",
    "        اهداف اصلی:\n",
    "    </font>\n",
    "    <br>\n",
    "    <font size=4>\n",
    "        <li>\n",
    "            در نهایت مدل های اولیه را بررسی کنید و در قسمت ارزیابی بنویسید.\n",
    "        </li>\n",
    "        <li>\n",
    "            از Pipeline استفاده کنید و سعی کنید کد های خودتان را در قالب توابع بنویسید.\n",
    "        </li>\n",
    "        <li>\n",
    "            حتما منحنی یادگیری (Learning Curve) را برای هر مدل بررسی کنید.\n",
    "        </li>\n",
    "    </font>\n",
    "</div>\n",
    "<br>\n",
    "    \n"
   ]
  },
  {
   "cell_type": "code",
   "execution_count": null,
   "metadata": {
    "id": "0TQhvl0TzITB"
   },
   "outputs": [],
   "source": [
    "# TODO : کتابخانه های مورد نیاز را ایمپورت کنید\n",
    "\n"
   ]
  },
  {
   "cell_type": "code",
   "execution_count": null,
   "metadata": {
    "id": "DB67unQKzIIi"
   },
   "outputs": [],
   "source": [
    "# TODO: چهار مدل اولیه را آموزش دهید و آنها را ارزیابی کنید\n",
    "\n"
   ]
  },
  {
   "cell_type": "code",
   "execution_count": null,
   "metadata": {
    "id": "3aPQKHN4zIE5"
   },
   "outputs": [],
   "source": [
    "# TODO : نمودار Learning Curve هر مدل را رسم کنید\n",
    "\n"
   ]
  },
  {
   "cell_type": "markdown",
   "metadata": {
    "id": "n-iFU0EATo49"
   },
   "source": [
    "### بررسی نمودار های یادگیری (Learning Curve)\n",
    "1. ...\n",
    "2. ...\n",
    "3. ...\n",
    "4. ..."
   ]
  },
  {
   "cell_type": "markdown",
   "metadata": {
    "id": "f4qKOHhaqTNH"
   },
   "source": [
    "<br>\n",
    "<div dir=\"rtl\">\n",
    "<font size=\"6\">\n",
    "    <li>\n",
    "    <strong>قدم ششم: بهینه‌سازی مدل(های) منتخب</strong>\n",
    "    </li>\n",
    "</font>\n",
    "<font size=\"4\">\n",
    "    در این مرحله مدل‌های برتر انتخاب‌شده را با استفاده از تنظیمات پیشرفته‌تر، بهینه‌سازی هایپرپارامترها و روش‌های بهبود عملکرد، دقیق‌تر آموزش می‌دهیم تا بهترین نتیجه را از داده‌ها استخراج کنیم.\n",
    "</font>\n",
    "</div>\n",
    "<br>\n"
   ]
  },
  {
   "cell_type": "markdown",
   "metadata": {
    "id": "UH5Qr5g0PGt2"
   },
   "source": [
    "<div dir=\"rtl\">\n",
    "<font size=\"4\">\n",
    "    <li>پس فضای جستجوی پارامتر را تعریف کنید.</li>\n",
    "    <li>یکی از روش های GridSearch یا RandomSearch یا هر روش دیگه ایی که فکر می کنید مناسب بهینه سازی پارامتر ها است را پیاده سازی کنید.</li>\n",
    "    <li>سپس مدل بهینه شده را مجدد آموزش دهید.</li>\n",
    "</div>\n"
   ]
  },
  {
   "cell_type": "code",
   "execution_count": null,
   "metadata": {
    "id": "x0n3Y6qSmDjw"
   },
   "outputs": [],
   "source": [
    "# TODO: مدل منتخب در مرحله قبل را به کمک روش های بهینه سازی هایپر پارامتر بهبود دهید.\n",
    "\n"
   ]
  },
  {
   "cell_type": "code",
   "execution_count": null,
   "metadata": {
    "id": "nVA4j8TFLGca"
   },
   "outputs": [],
   "source": [
    "# TODO: مدل بهینه شده را آموزش دهید.\n",
    "\n"
   ]
  },
  {
   "cell_type": "markdown",
   "metadata": {
    "id": "n6P8DJBwPu5F"
   },
   "source": [
    "<div dir=\"rtl\">\n",
    "    <font size=4>\n",
    "        <li>منحنی یادگیری را برای مدل بهینه شده را رسم کنید و این نمودار را در قسمت ارزیابی بررسی کنید.</li>\n",
    "    </font>\n",
    "</div>\n",
    "<br>"
   ]
  },
  {
   "cell_type": "code",
   "execution_count": null,
   "metadata": {
    "id": "LB9y0-3nLGXm"
   },
   "outputs": [],
   "source": [
    "# TODO: نمودار منحنی یادگیری را برای مدل\n",
    "\n"
   ]
  },
  {
   "cell_type": "markdown",
   "metadata": {
    "id": "gsqHB_6g0ChD"
   },
   "source": [
    "### ارزیابی نهایی:\n",
    "\n",
    "**حتما در این بخش ارزیابی و نتیجه گیری نهایی از این تمرین اعم از پیش پردازش و مهندسی ویژگی و در نهایت کیفیت و عملکرد مدل یادگیری ماشین را بنویسید**"
   ]
  },
  {
   "cell_type": "code",
   "execution_count": null,
   "metadata": {
    "id": "TGO7CZQcyNbH"
   },
   "outputs": [],
   "source": []
  },
  {
   "cell_type": "code",
   "execution_count": null,
   "metadata": {
    "id": "G5MuY5NByPbD"
   },
   "outputs": [],
   "source": []
  },
  {
   "cell_type": "markdown",
   "metadata": {},
   "source": [
    "# 1. Introduction"
   ]
  },
  {
   "cell_type": "markdown",
   "metadata": {},
   "source": [
    "# Air Pollution Dataset Overview\r\n",
    "\r\n",
    "## General Information\r\n",
    "- **File Name**: `Air_pollution_dataset.csv`\r\n",
    "- **File Format**: CSV (Comma-Separated Values)\r\n",
    "- **Delimiter**: Semicolon (`;`)\r\n",
    "- **Number of Rows**: 9357\r\n",
    "- **Number of Columns**: 16\r\n",
    "\r\n",
    "## Columns Description\r\n",
    "1. **Date**: The date of the recorded data (format: `DD/MM/YYYY`).\r\n",
    "2. **Time**: The time of the recorded data (format: `HH.MM.SS`).\r\n",
    "3. **CO(GT)**: Carbon monoxide concentration (mg/m³).\r\n",
    "4. **PT08.S1(CO)**: Tin oxide sensor response for CO (non-standardized).\r\n",
    "5. **NMHC(GT)**: Non-methane hydrocarbons concentration (µg/m³).\r\n",
    "6. **C6H6(GT)**: Benzene concentration (µg/m³).\r\n",
    "7. **PT08.S2(NMHC)**: Titania sensor response for NMHC (non-standardized).\r\n",
    "8. **NOx(GT)**: Nitrogen oxides concentration (µg/m³).\r\n",
    "9. **PT08.S3(NOx)**: Tungsten oxide sensor response for NOx (non-standardized).\r\n",
    "10. **NO2(GT)**: Nitrogen dioxide concentration (µg/m³).\r\n",
    "11. **PT08.S4(NO2)**: Tungsten oxide sensor response for NO2 (non-standardized).\r\n",
    "12. **PT08.S5(O3)**: Indium oxide sensor response for O3 (non-standardized).\r\n",
    "13. **T**: Temperature (°C).\r\n",
    "14. **RH**: Relative humidity (%).\r\n",
    "15. **AH**: Absolute humidity (g/m³).\r\n",
    "16. **Empty Column**: An empty column with no data.\r\n",
    "\r\n",
    "## Data Characteristics\r\n",
    "- The dataset contains hourly measurements of various air pollutants and environmental conditions.\r\n",
    "- Some entries contain missing or invalid data, represented by `-200`.\r\n",
    "- The dataset spans multiple days, with measurements taken every hour.\r\n",
    "\r\n",
    "## Potential Use Cases\r\n",
    "- **Air Quality Analysis**: Analyze trends and patterns in air pollutant concentrations.\r\n",
    "- **Environmental Monitoring**: Monitor changes in temperature, humidity, and pollutant levels over time.\r\n",
    "- **Machine Learning**: Use the data to train models for predictin   | 13.3 | 47.7 | 0.7255 |              |\r\n",
    "\r\n",
    "## Notes\r\n",
    "- Ensure to handle missing or invalid data (`-200`) appropriately during analysis.\r\n",
    "- The dataset may require preprocessing (e.g., normalization, imputation) before use in machine learning models.mpty column with no data."
   ]
  },
  {
   "cell_type": "markdown",
   "metadata": {},
   "source": [
    "# 2. Python Required Libraries"
   ]
  },
  {
   "cell_type": "code",
   "execution_count": 4,
   "metadata": {},
   "outputs": [],
   "source": [
    "import pandas as pd\n",
    "import numpy as np\n",
    "import matplotlib.pyplot as plt\n"
   ]
  },
  {
   "cell_type": "markdown",
   "metadata": {},
   "source": [
    "# 3. Import Dataset & First Organization"
   ]
  },
  {
   "cell_type": "code",
   "execution_count": 34,
   "metadata": {},
   "outputs": [],
   "source": [
    "df=pd.read_csv('E:/Python Projects/courses/Artificial intelligence - Mehdi Abbasi/حل تمرین/term 5/3 - Air pollution/Air_pollution_ dataset.csv', delimiter=';')"
   ]
  },
  {
   "cell_type": "code",
   "execution_count": 35,
   "metadata": {},
   "outputs": [
    {
     "data": {
      "text/html": [
       "<div>\n",
       "<style scoped>\n",
       "    .dataframe tbody tr th:only-of-type {\n",
       "        vertical-align: middle;\n",
       "    }\n",
       "\n",
       "    .dataframe tbody tr th {\n",
       "        vertical-align: top;\n",
       "    }\n",
       "\n",
       "    .dataframe thead th {\n",
       "        text-align: right;\n",
       "    }\n",
       "</style>\n",
       "<table border=\"1\" class=\"dataframe\">\n",
       "  <thead>\n",
       "    <tr style=\"text-align: right;\">\n",
       "      <th></th>\n",
       "      <th>Date</th>\n",
       "      <th>Time</th>\n",
       "      <th>CO(GT)</th>\n",
       "      <th>PT08.S1(CO)</th>\n",
       "      <th>NMHC(GT)</th>\n",
       "      <th>C6H6(GT)</th>\n",
       "      <th>PT08.S2(NMHC)</th>\n",
       "      <th>NOx(GT)</th>\n",
       "      <th>PT08.S3(NOx)</th>\n",
       "      <th>NO2(GT)</th>\n",
       "      <th>PT08.S4(NO2)</th>\n",
       "      <th>PT08.S5(O3)</th>\n",
       "      <th>T</th>\n",
       "      <th>RH</th>\n",
       "      <th>AH</th>\n",
       "      <th>Unnamed: 15</th>\n",
       "      <th>Unnamed: 16</th>\n",
       "    </tr>\n",
       "  </thead>\n",
       "  <tbody>\n",
       "    <tr>\n",
       "      <th>0</th>\n",
       "      <td>10/03/2004</td>\n",
       "      <td>18.00.00</td>\n",
       "      <td>2,6</td>\n",
       "      <td>1360.0</td>\n",
       "      <td>150.0</td>\n",
       "      <td>11,9</td>\n",
       "      <td>1046.0</td>\n",
       "      <td>166.0</td>\n",
       "      <td>1056.0</td>\n",
       "      <td>113.0</td>\n",
       "      <td>1692.0</td>\n",
       "      <td>1268.0</td>\n",
       "      <td>13,6</td>\n",
       "      <td>48,9</td>\n",
       "      <td>0,7578</td>\n",
       "      <td>NaN</td>\n",
       "      <td>NaN</td>\n",
       "    </tr>\n",
       "    <tr>\n",
       "      <th>1</th>\n",
       "      <td>10/03/2004</td>\n",
       "      <td>19.00.00</td>\n",
       "      <td>2</td>\n",
       "      <td>1292.0</td>\n",
       "      <td>112.0</td>\n",
       "      <td>9,4</td>\n",
       "      <td>955.0</td>\n",
       "      <td>103.0</td>\n",
       "      <td>1174.0</td>\n",
       "      <td>92.0</td>\n",
       "      <td>1559.0</td>\n",
       "      <td>972.0</td>\n",
       "      <td>13,3</td>\n",
       "      <td>47,7</td>\n",
       "      <td>0,7255</td>\n",
       "      <td>NaN</td>\n",
       "      <td>NaN</td>\n",
       "    </tr>\n",
       "  </tbody>\n",
       "</table>\n",
       "</div>"
      ],
      "text/plain": [
       "         Date      Time CO(GT)  PT08.S1(CO)  NMHC(GT) C6H6(GT)  PT08.S2(NMHC)  \\\n",
       "0  10/03/2004  18.00.00    2,6       1360.0     150.0     11,9         1046.0   \n",
       "1  10/03/2004  19.00.00      2       1292.0     112.0      9,4          955.0   \n",
       "\n",
       "   NOx(GT)  PT08.S3(NOx)  NO2(GT)  PT08.S4(NO2)  PT08.S5(O3)     T    RH  \\\n",
       "0    166.0        1056.0    113.0        1692.0       1268.0  13,6  48,9   \n",
       "1    103.0        1174.0     92.0        1559.0        972.0  13,3  47,7   \n",
       "\n",
       "       AH  Unnamed: 15  Unnamed: 16  \n",
       "0  0,7578          NaN          NaN  \n",
       "1  0,7255          NaN          NaN  "
      ]
     },
     "execution_count": 35,
     "metadata": {},
     "output_type": "execute_result"
    }
   ],
   "source": [
    "df.head(2)"
   ]
  },
  {
   "cell_type": "code",
   "execution_count": 36,
   "metadata": {},
   "outputs": [
    {
     "name": "stdout",
     "output_type": "stream",
     "text": [
      "<class 'pandas.core.frame.DataFrame'>\n",
      "RangeIndex: 9471 entries, 0 to 9470\n",
      "Data columns (total 17 columns):\n",
      " #   Column         Non-Null Count  Dtype  \n",
      "---  ------         --------------  -----  \n",
      " 0   Date           9357 non-null   object \n",
      " 1   Time           9357 non-null   object \n",
      " 2   CO(GT)         9357 non-null   object \n",
      " 3   PT08.S1(CO)    9357 non-null   float64\n",
      " 4   NMHC(GT)       9357 non-null   float64\n",
      " 5   C6H6(GT)       9357 non-null   object \n",
      " 6   PT08.S2(NMHC)  9357 non-null   float64\n",
      " 7   NOx(GT)        9357 non-null   float64\n",
      " 8   PT08.S3(NOx)   9357 non-null   float64\n",
      " 9   NO2(GT)        9357 non-null   float64\n",
      " 10  PT08.S4(NO2)   9357 non-null   float64\n",
      " 11  PT08.S5(O3)    9357 non-null   float64\n",
      " 12  T              9357 non-null   object \n",
      " 13  RH             9357 non-null   object \n",
      " 14  AH             9357 non-null   object \n",
      " 15  Unnamed: 15    0 non-null      float64\n",
      " 16  Unnamed: 16    0 non-null      float64\n",
      "dtypes: float64(10), object(7)\n",
      "memory usage: 1.2+ MB\n"
     ]
    }
   ],
   "source": [
    "df.info()"
   ]
  },
  {
   "cell_type": "code",
   "execution_count": 37,
   "metadata": {},
   "outputs": [
    {
     "data": {
      "text/plain": [
       "Date              114\n",
       "Time              114\n",
       "CO(GT)            114\n",
       "PT08.S1(CO)       114\n",
       "NMHC(GT)          114\n",
       "C6H6(GT)          114\n",
       "PT08.S2(NMHC)     114\n",
       "NOx(GT)           114\n",
       "PT08.S3(NOx)      114\n",
       "NO2(GT)           114\n",
       "PT08.S4(NO2)      114\n",
       "PT08.S5(O3)       114\n",
       "T                 114\n",
       "RH                114\n",
       "AH                114\n",
       "Unnamed: 15      9471\n",
       "Unnamed: 16      9471\n",
       "dtype: int64"
      ]
     },
     "execution_count": 37,
     "metadata": {},
     "output_type": "execute_result"
    }
   ],
   "source": [
    "df.isnull().sum()"
   ]
  },
  {
   "cell_type": "code",
   "execution_count": 38,
   "metadata": {},
   "outputs": [
    {
     "data": {
      "text/plain": [
       "(9471, 17)"
      ]
     },
     "execution_count": 38,
     "metadata": {},
     "output_type": "execute_result"
    }
   ],
   "source": [
    "df.shape"
   ]
  },
  {
   "cell_type": "code",
   "execution_count": 39,
   "metadata": {},
   "outputs": [
    {
     "data": {
      "text/plain": [
       "113"
      ]
     },
     "execution_count": 39,
     "metadata": {},
     "output_type": "execute_result"
    }
   ],
   "source": [
    "df.duplicated().sum()"
   ]
  },
  {
   "cell_type": "code",
   "execution_count": 40,
   "metadata": {},
   "outputs": [],
   "source": [
    "# Remove the two entirely null columns\n",
    "df.dropna(axis=1, how='all', inplace= True)"
   ]
  },
  {
   "cell_type": "code",
   "execution_count": 42,
   "metadata": {},
   "outputs": [],
   "source": [
    "# Remove entirely null rows:\n",
    "df.dropna(axis=0, how='all', inplace= True)"
   ]
  },
  {
   "cell_type": "code",
   "execution_count": 45,
   "metadata": {},
   "outputs": [
    {
     "data": {
      "text/plain": [
       "0"
      ]
     },
     "execution_count": 45,
     "metadata": {},
     "output_type": "execute_result"
    }
   ],
   "source": [
    "df.duplicated().sum()"
   ]
  },
  {
   "cell_type": "markdown",
   "metadata": {},
   "source": [
    "## Dataset Description\r\n",
    "\r\n",
    "### General Information\r\n",
    "- **Number of Columns**7 16\r\n",
    "- **Number of Entries**: 9,471 (indexed from 0 to 9,470)\r\n",
    "- **Missing Values**: \r\n",
    "  - Each column contains **114 null values**.\r\n",
    "  - **Two columns** are entirely nuwe deleted them.\n",
    "  - **some rows** are entirely null and we deleted them.eleted.\r\n",
    "\r\n",
    "### Key Observations\r\n",
    "1. **Null Values**:\r\n",
    "   - There are 114 missing values in each column, which may need to be handled (e.g., imputation or removal) depending on the analysis.\r\n",
    "   \r\n",
    "2. **Empty Columns**:\r\n",
    "   - Two columns are completely null (no useful data). These columns should be removed to clean the dataset.\r\n",
    "\r\n",
    "### Next Steps\r\n",
    "- **Data Cleaning**:\r\n",
    "  - Remove the two entirely null columns.\r\n",
    "  - Handle the 114 missing values in each column (e.g., impute or drop rows/columns).\r\n",
    "- **Exploratory Data Analysis (EDA)**:\r\n",
    "  - Analyze the distribution of values in each column.\r\n",
    "  - Check for correlations between variables.\r\n",
    "  - Visualize trends an  # Drop rows with missing values"
   ]
  },
  {
   "cell_type": "code",
   "execution_count": null,
   "metadata": {},
   "outputs": [],
   "source": []
  }
 ],
 "metadata": {
  "colab": {
   "provenance": [
    {
     "file_id": "1JjEDI1JQWQan57O-TrMrVVeI8XFaFlSs",
     "timestamp": 1741188070847
    }
   ]
  },
  "kernelspec": {
   "display_name": "Python 3 (ipykernel)",
   "language": "python",
   "name": "python3"
  },
  "language_info": {
   "codemirror_mode": {
    "name": "ipython",
    "version": 3
   },
   "file_extension": ".py",
   "mimetype": "text/x-python",
   "name": "python",
   "nbconvert_exporter": "python",
   "pygments_lexer": "ipython3",
   "version": "3.9.17"
  }
 },
 "nbformat": 4,
 "nbformat_minor": 4
}
