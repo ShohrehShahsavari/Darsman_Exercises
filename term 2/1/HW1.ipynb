{
 "cells": [
  {
   "cell_type": "markdown",
   "id": "72ced9fc-8601-459f-910d-c539e95f702b",
   "metadata": {},
   "source": [
    "#Q1"
   ]
  },
  {
   "cell_type": "code",
   "execution_count": 1,
   "id": "4146c57f-574b-4146-8341-86361bec415e",
   "metadata": {},
   "outputs": [
    {
     "name": "stdout",
     "output_type": "stream",
     "text": [
      "A*B=[[50 42 42]\n",
      " [25 96 26]]\n"
     ]
    }
   ],
   "source": [
    "import numpy as np\n",
    "mat1=np.array([[3,2,1,5],[9,1,3,0]])\n",
    "mat2=np.array([[2,9,0],[1,3,5],[2,4,7],[8,1,5]])\n",
    "mulmat=np.dot(mat1,mat2)\n",
    "print(f\"A*B={mulmat}\")"
   ]
  },
  {
   "cell_type": "markdown",
   "id": "2f7be317-256c-40f7-9aaf-95dd3d7e0682",
   "metadata": {},
   "source": [
    "#Q2"
   ]
  },
  {
   "cell_type": "code",
   "execution_count": 2,
   "id": "fa7769c2-de72-455e-b0ca-0d63f0344f89",
   "metadata": {},
   "outputs": [
    {
     "name": "stdout",
     "output_type": "stream",
     "text": [
      "A=[[ 3  8 -6]\n",
      " [ 4 10 -1]\n",
      " [-1  9  7]]\n",
      "det(A)=-254.99999999999991\n"
     ]
    }
   ],
   "source": [
    "A=np.array([[3,8,-6],[4,10,-1],[-1,9,7]])\n",
    "detA=np.linalg.det(A)\n",
    "print(f'A={A}\\ndet(A)={detA}')"
   ]
  },
  {
   "cell_type": "markdown",
   "id": "a6340a52-f642-40fe-970a-0c3066c480b3",
   "metadata": {},
   "source": [
    "#Q3"
   ]
  },
  {
   "cell_type": "code",
   "execution_count": 3,
   "id": "322945e8-e6ff-43e4-a898-c656082edd1a",
   "metadata": {},
   "outputs": [
    {
     "name": "stdout",
     "output_type": "stream",
     "text": [
      "A=[[2 3 1]\n",
      " [3 4 1]\n",
      " [3 7 2]]\n",
      "Invers(A)=[[ 0.5  0.5 -0.5]\n",
      " [-1.5  0.5  0.5]\n",
      " [ 4.5 -2.5 -0.5]]\n"
     ]
    }
   ],
   "source": [
    "A=np.array([[2,3,1],[3,4,1],[3,7,2]])\n",
    "inversA=np.linalg.inv(A)\n",
    "print(f'A={A}\\nInvers(A)={inversA}')"
   ]
  },
  {
   "cell_type": "markdown",
   "id": "0d5efc1d-0c4e-4e3f-87e2-156ec1e338b4",
   "metadata": {},
   "source": [
    "#Q4"
   ]
  },
  {
   "cell_type": "code",
   "execution_count": 4,
   "id": "193c1bd3-ce68-4b02-ac2b-20bd63b9d5ef",
   "metadata": {},
   "outputs": [
    {
     "name": "stdout",
     "output_type": "stream",
     "text": [
      "EigenVector=[-1. -2.]\n",
      "EigenValues=[[ 0.70710678 -0.4472136 ]\n",
      " [-0.70710678  0.89442719]]\n"
     ]
    }
   ],
   "source": [
    "A=np.array([[0,1],[-2,-3]])\n",
    "w,v=np.linalg.eig(A)\n",
    "print(f'EigenVector={w}\\nEigenValues={v}')"
   ]
  },
  {
   "cell_type": "markdown",
   "id": "98c9607d-3b0f-4c27-be47-e29769682bab",
   "metadata": {},
   "source": [
    "#Q5"
   ]
  },
  {
   "cell_type": "code",
   "execution_count": 5,
   "id": "3f3ec9d5-3a29-4b4a-9d29-5bbdb4a59cdd",
   "metadata": {},
   "outputs": [
    {
     "name": "stdout",
     "output_type": "stream",
     "text": [
      "MatrixNorm=12.0\n",
      "RowNorm=[8.36660027 2.23606798 8.30662386]\n",
      "ColumnNorm=[6.40312424 7.87400787 6.40312424]\n"
     ]
    }
   ],
   "source": [
    "A=np.array([[5,3,6],[0,-2,1],[4,7,2]])\n",
    "print(f'MatrixNorm={np.linalg.norm(A)}\\nRowNorm={np.linalg.norm(A,axis=1)}\\nColumnNorm={np.linalg.norm(A,axis=0)}')"
   ]
  },
  {
   "cell_type": "markdown",
   "id": "51df30e5-cf85-4cf1-b8e8-5f8309adc6c2",
   "metadata": {},
   "source": [
    "#Q6"
   ]
  },
  {
   "cell_type": "code",
   "execution_count": 6,
   "id": "eeacb3a6-1d53-45ec-b5f1-23101ca7f016",
   "metadata": {},
   "outputs": [
    {
     "name": "stdout",
     "output_type": "stream",
     "text": [
      "[-4. -3.]\n"
     ]
    }
   ],
   "source": [
    "a=np.array([[1,-1],[2,-1]])\n",
    "b=np.array([-1,-5])\n",
    "x=np.linalg.solve(a,b)\n",
    "print(x)"
   ]
  },
  {
   "cell_type": "markdown",
   "id": "1dd51443-fa8b-4fe4-b0d0-71a877df5956",
   "metadata": {},
   "source": [
    "Q7"
   ]
  },
  {
   "cell_type": "code",
   "execution_count": 7,
   "id": "7565e70d-790e-4a04-bcae-8d5e25f4cdbf",
   "metadata": {},
   "outputs": [
    {
     "name": "stdout",
     "output_type": "stream",
     "text": [
      "   x  y  z\n",
      "[ 2.  4. 12.]\n"
     ]
    }
   ],
   "source": [
    "a=np.array([[1,-1,1],[3,1,2],[-5,2,-1]])\n",
    "b=np.array([10,34,-14])\n",
    "x=np.linalg.solve(a,b)\n",
    "print(f'   x  y  z')\n",
    "print(x)"
   ]
  }
 ],
 "metadata": {
  "kernelspec": {
   "display_name": "Python 3 (ipykernel)",
   "language": "python",
   "name": "python3"
  },
  "language_info": {
   "codemirror_mode": {
    "name": "ipython",
    "version": 3
   },
   "file_extension": ".py",
   "mimetype": "text/x-python",
   "name": "python",
   "nbconvert_exporter": "python",
   "pygments_lexer": "ipython3",
   "version": "3.9.13"
  }
 },
 "nbformat": 4,
 "nbformat_minor": 5
}
