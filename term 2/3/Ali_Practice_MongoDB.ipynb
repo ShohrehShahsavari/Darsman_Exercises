{
 "cells": [
  {
   "cell_type": "markdown",
   "id": "79cd39e2",
   "metadata": {},
   "source": [
    "#### Import pymongo"
   ]
  },
  {
   "cell_type": "code",
   "execution_count": 1,
   "id": "7f3ff616",
   "metadata": {},
   "outputs": [],
   "source": [
    "from pymongo import MongoClient\n",
    "from  pprint import pprint"
   ]
  },
  {
   "cell_type": "markdown",
   "id": "852b6479",
   "metadata": {},
   "source": [
    "#### Connect to MongoDB"
   ]
  },
  {
   "cell_type": "code",
   "execution_count": 2,
   "id": "5fa74aa3",
   "metadata": {},
   "outputs": [],
   "source": [
    "client = MongoClient(host='localhost',port=27017)"
   ]
  },
  {
   "cell_type": "markdown",
   "id": "e0b5117f",
   "metadata": {},
   "source": [
    "#### Create Database "
   ]
  },
  {
   "cell_type": "code",
   "execution_count": 3,
   "id": "bccc2ae1",
   "metadata": {},
   "outputs": [],
   "source": [
    "dbcatering = client['catering']"
   ]
  },
  {
   "cell_type": "markdown",
   "id": "11ecc438",
   "metadata": {},
   "source": [
    "#### Create Collections"
   ]
  },
  {
   "cell_type": "code",
   "execution_count": 4,
   "id": "3bdf3659",
   "metadata": {},
   "outputs": [],
   "source": [
    "Customers = dbcatering['customers']\n",
    "Foods = dbcatering['foods']\n",
    "Orders = dbcatering['orders']"
   ]
  },
  {
   "cell_type": "markdown",
   "id": "6bec2b73",
   "metadata": {},
   "source": [
    "#### insert document in customers  collection"
   ]
  },
  {
   "cell_type": "code",
   "execution_count": 63,
   "id": "cd9fc093",
   "metadata": {},
   "outputs": [],
   "source": [
    "Customers.insert_many([\n",
    "    {'_id':1,'Name':'Ali','Family':'Bahrami','Active':True,'MobileNumber':'09370589962','Address':'Malayer kh Emam'},\n",
    "    {'_id':2,'Name':'Reza','Family':'Akbari','Active':False,'MobileNumber':'09388925364'},\n",
    "    {'_id':3,'Name':'Ahmad','Family':'Rezaei','Active':True,'MobileNumber':'09373653214','Address':'Malayer kh Arak'},\n",
    "    {'_id':4,'Name':'Javad','Family':'Mohamadi','Active':True,'MobileNumber':'09125642145'},\n",
    "    {'_id':5,'Name':'Sara','Family':'Akbari','Active':True,'MobileNumber':'09182086524'},\n",
    "    {'_id':6,'Name':'Negin','Family':'Moeini','Active':True,'MobileNumber':'09386405891','Address':'Malayer kh khayam'},\n",
    "    {'_id':7,'Name':'Sajad','Family':'Darvishi','Active':False,'MobileNumber':'09915831540'},\n",
    "    {'_id':8,'Name':'Ali','Family':'Tehrani','Active':True,'MobileNumber':'09213605941'},\n",
    "    {'_id':9,'Name':'Mehdi','Family':'Abbasi','Active':True,'MobileNumber':'09301597565'},\n",
    "    {'_id':10,'Name':'Ayda','Family':'Javadi','Active':True,'MobileNumber':'09189513570','Address':'Malayer kh Shohada'},\n",
    "])"
   ]
  },
  {
   "cell_type": "markdown",
   "id": "882f2fc1",
   "metadata": {},
   "source": [
    "#### insert document in foods collection"
   ]
  },
  {
   "cell_type": "code",
   "execution_count": 62,
   "id": "90f8b42d",
   "metadata": {
    "scrolled": true
   },
   "outputs": [],
   "source": [
    "Foods.insert_many([\n",
    "    {'_id':1001,'name':'Pizza','Price':250},\n",
    "    {'_id':1002,'name':'Meat Kebab','Price':300},\n",
    "    {'_id':1003,'name':'Stew','Price':100},\n",
    "    {'_id':1004,'name':'Hotdog','Price':180},\n",
    "    {'_id':1005,'name':'Pasta','Price':90},\n",
    "    {'_id':1006,'name':'Sandwich','Price':120},\n",
    "    {'_id':1007,'name':'Bacon','Price':210},\n",
    "    {'_id':1008,'name':'Hamburger','Price':150},\n",
    "    {'_id':1009,'name':'Cheeseburger','Price':190},\n",
    "    {'_id':1010,'name':'Fried Chicken','Price':280},\n",
    "])"
   ]
  },
  {
   "cell_type": "markdown",
   "id": "8cd89d71",
   "metadata": {},
   "source": [
    "#### insert document in foods collection"
   ]
  },
  {
   "cell_type": "code",
   "execution_count": 13,
   "id": "d1aff7de",
   "metadata": {},
   "outputs": [],
   "source": [
    "Orders.insert_many([\n",
    "    {'_id':101,'CustomerCode':8,'FoodCode':[1001,1003,1007],'Date':'2023-07-01','send':True,'with food':['Soft drinks','yogurt']},\n",
    "    {'_id':102,'CustomerCode':5,'FoodCode':1006,'Date':'2023-07-01','with food':['sauce']},\n",
    "    {'_id':103,'CustomerCode':6,'FoodCode':1002,'Date':'2023-07-02','with food':['Salad','yogurt']},\n",
    "    {'_id':104,'CustomerCode':1,'FoodCode':1003,'Date':'2023-07-03','send':True},\n",
    "    {'_id':105,'CustomerCode':3,'FoodCode':1006,'Date':'2023-07-03','with food':['Soft drinks']},\n",
    "    {'_id':106,'CustomerCode':1,'FoodCode':1009,'Date':'2023-07-05',},\n",
    "    {'_id':107,'CustomerCode':1,'FoodCode':1005,'Date':'2023-07-05','send':True},\n",
    "    {'_id':108,'CustomerCode':3,'FoodCode':[1004,1003],'Date':'2023-07-05','with food':['Soft drinks','sauce']},\n",
    "    {'_id':109,'CustomerCode':6,'FoodCode':[1007,1002,1010],'Date':'2023-07-06','with food':['Olive']},\n",
    "    {'_id':110,'CustomerCode':9,'FoodCode':1006,'Date':'2023-07-07','send':True},\n",
    "    {'_id':111,'CustomerCode':4,'FoodCode':1010,'Date':'2023-07-07'},\n",
    "    {'_id':112,'CustomerCode':5,'FoodCode':1010,'Date':'2023-07-07'},\n",
    "    {'_id':113,'CustomerCode':9,'FoodCode':1009,'Date':'2023-07-08','send':True},\n",
    "    {'_id':114,'CustomerCode':4,'FoodCode':1001,'Date':'2023-07-08','with food':['Soft drinks','sauce']},\n",
    "    {'_id':115,'CustomerCode':8,'FoodCode':1001,'Date':'2023-07-08'},\n",
    "    {'_id':116,'CustomerCode':4,'FoodCode':[1010,1002],'Date':'2023-07-08'}\n",
    "])"
   ]
  },
  {
   "cell_type": "markdown",
   "id": "79b70e97",
   "metadata": {},
   "source": [
    "### Query1"
   ]
  },
  {
   "cell_type": "code",
   "execution_count": 14,
   "id": "905222ea",
   "metadata": {
    "scrolled": true
   },
   "outputs": [],
   "source": [
    "for doc in Foods.find({},{'_id':1,'name':1,'Price':1}).sort('Price',-1):\n",
    "    print(doc)"
   ]
  },
  {
   "cell_type": "markdown",
   "id": "25a4ec2a",
   "metadata": {},
   "source": [
    "### Query2"
   ]
  },
  {
   "cell_type": "code",
   "execution_count": 15,
   "id": "64299f0f",
   "metadata": {
    "scrolled": true
   },
   "outputs": [],
   "source": [
    "for doc in Customers.find({'Active':True},{'_id':0,'Address':0}):\n",
    "    print(doc)"
   ]
  },
  {
   "cell_type": "markdown",
   "id": "efcdd0c3",
   "metadata": {},
   "source": [
    "### Query3"
   ]
  },
  {
   "cell_type": "code",
   "execution_count": 16,
   "id": "9831bb32",
   "metadata": {},
   "outputs": [],
   "source": [
    "for doc in Foods.find({'$and':[{'Price':{'$gte':120}},{'Price':{'$lte':260}}]},{'_id':0,'name':1,'Price':1}).sort('Price'):\n",
    "    print(doc)"
   ]
  },
  {
   "cell_type": "markdown",
   "id": "1c95b05d",
   "metadata": {},
   "source": [
    "### Query4"
   ]
  },
  {
   "cell_type": "code",
   "execution_count": 17,
   "id": "8838fa65",
   "metadata": {},
   "outputs": [],
   "source": [
    "for doc in Orders.find({'Date':'2023-07-08'},{'send':0,'Price':0}):\n",
    "    print(doc)"
   ]
  },
  {
   "cell_type": "markdown",
   "id": "ac680d16",
   "metadata": {},
   "source": [
    "### Query5"
   ]
  },
  {
   "cell_type": "code",
   "execution_count": 22,
   "id": "06463341",
   "metadata": {},
   "outputs": [],
   "source": [
    "for item in Orders.aggregate([\n",
    "    {'$match':{'Date':'2023-07-07'}},\n",
    "    {'$unwind':'$FoodCode'},\n",
    "    {'$lookup':{'from':'foods','localField':'FoodCode','foreignField':'_id','as':'namefood'}},\n",
    "    {'$unwind':'$namefood'},\n",
    "    {'$group':{'_id':'$FoodCode','count':{'$count':{}},'totalPrice':{'$sum':'$namefood.Price'}}}\n",
    "    ]): \n",
    "        pprint(item)\n"
   ]
  },
  {
   "cell_type": "markdown",
   "id": "f2f39adb",
   "metadata": {},
   "source": [
    "### Query6"
   ]
  },
  {
   "cell_type": "code",
   "execution_count": 23,
   "id": "1f7b5fef",
   "metadata": {},
   "outputs": [],
   "source": [
    "for item in Orders.aggregate([{'$match':{'CustomerCode':4}}, \n",
    "    {'$lookup':{'from':'foods','localField':'FoodCode','foreignField':'_id','as':'namefood'}},\n",
    "    {'$unwind':'$namefood'},\n",
    "    {'$group':{'_id':'$CustomerCode','totalOrders':{'$sum':1},'foodsOrdered':{'$push':'$namefood.name'}}},\n",
    "    ]): \n",
    "        pprint(item)"
   ]
  }
 ],
 "metadata": {
  "kernelspec": {
   "display_name": "Python 3 (ipykernel)",
   "language": "python",
   "name": "python3"
  },
  "language_info": {
   "codemirror_mode": {
    "name": "ipython",
    "version": 3
   },
   "file_extension": ".py",
   "mimetype": "text/x-python",
   "name": "python",
   "nbconvert_exporter": "python",
   "pygments_lexer": "ipython3",
   "version": "3.9.13"
  }
 },
 "nbformat": 4,
 "nbformat_minor": 5
}
