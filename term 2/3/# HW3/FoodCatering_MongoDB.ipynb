{
 "cells": [
  {
   "cell_type": "markdown",
   "id": "c2594e62-faf2-4b75-a0f2-bfa9b84284a9",
   "metadata": {},
   "source": [
    "# Food Catering"
   ]
  },
  {
   "cell_type": "code",
   "execution_count": 1,
   "id": "a08e3f65-e957-4e7e-8661-2a82aa974f01",
   "metadata": {},
   "outputs": [],
   "source": [
    "from pymongo import MongoClient\n",
    "import datetime"
   ]
  },
  {
   "cell_type": "markdown",
   "id": "ea4c8271-5c9a-4a9e-b805-0ce70c1f9dd9",
   "metadata": {},
   "source": [
    "## Conect to MongoDb"
   ]
  },
  {
   "cell_type": "code",
   "execution_count": 2,
   "id": "a3eaf071-5eac-44df-a996-4b283ebcf685",
   "metadata": {},
   "outputs": [
    {
     "name": "stdout",
     "output_type": "stream",
     "text": [
      "MongoClient(host=['127.0.0.1:27017'], document_class=dict, tz_aware=False, connect=True)\n"
     ]
    }
   ],
   "source": [
    "client=MongoClient(host='127.0.0.1',port=27017)\n",
    "print(client)"
   ]
  },
  {
   "cell_type": "markdown",
   "id": "48285a13-7f39-4c53-8c37-751f6abcdd50",
   "metadata": {},
   "source": [
    "### Show curent databases"
   ]
  },
  {
   "cell_type": "code",
   "execution_count": 3,
   "id": "cf687b9b-292a-4f31-936c-9215314ec457",
   "metadata": {},
   "outputs": [
    {
     "name": "stdout",
     "output_type": "stream",
     "text": [
      "admin\n",
      "config\n",
      "local\n"
     ]
    }
   ],
   "source": [
    "for db in client.list_database_names():\n",
    "    print(db)"
   ]
  },
  {
   "cell_type": "markdown",
   "id": "affd2eab-6d94-4b39-8433-f5c78c344813",
   "metadata": {},
   "source": [
    "## create database"
   ]
  },
  {
   "cell_type": "code",
   "execution_count": 4,
   "id": "b00b73c6-1c2c-4f84-ac42-96f7b1e8ed66",
   "metadata": {},
   "outputs": [],
   "source": [
    "dbFoodCatering=client['dbFoodCatering']"
   ]
  },
  {
   "cell_type": "markdown",
   "id": "33f1f5ed-fbaf-42d1-95c9-6f812aeef78e",
   "metadata": {},
   "source": [
    "### create and insert collections"
   ]
  },
  {
   "cell_type": "code",
   "execution_count": 5,
   "id": "bcf0fab5-81a8-40bc-9bff-23abedbf03a2",
   "metadata": {},
   "outputs": [
    {
     "name": "stdout",
     "output_type": "stream",
     "text": [
      "{'_id': 1, 'customerName': 'ali', 'customerFamily': 'alaie', 'Mobile': '0912000', 'Address': 'Tehran', 'isActive': 1}\n",
      "{'_id': 2, 'customerFamily': 'rezaie', 'Mobile': '0911000', 'Address': 'Esfahan', 'isActive': 1}\n",
      "{'_id': 3, 'customerName': 'ahmad', 'customerFamily': 'ahmadi', 'Mobile': '0913000', 'Address': 'Mashhad', 'isActive': 0}\n",
      "{'_id': 4, 'customerName': 'hasan', 'customerFamily': 'hasani', 'Address': 'Shiraz', 'isActive': 1}\n",
      "{'_id': 5, 'customerName': 'hosein', 'customerFamily': 'hoseni', 'Mobile': '0914000', 'isActive': 1}\n",
      "{'_id': 6, 'customerName': 'ebrahim', 'customerFamily': 'ebrahimi', 'Mobile': '0915000', 'Address': 'Tabriz', 'isActive': 0}\n",
      "{'_id': 7, 'customerName': 'mohamad', 'customerFamily': 'mohamadi', 'isActive': 1}\n",
      "{'_id': 8, 'customerName': 'amin', 'customerFamily': 'amini', 'Mobile': '0916000', 'Address': 'Ahwaz', 'isActive': 1}\n",
      "{'_id': 9, 'customerName': 'arash', 'customerFamily': 'arashi', 'Mobile': '0917000', 'Address': 'zabol', 'isActive': 1}\n",
      "{'_id': 10, 'customerName': 'shahram', 'customerFamily': 'shahi', 'Mobile': '0918', 'Address': 'hamedan', 'isActive': 0}\n"
     ]
    }
   ],
   "source": [
    "\n",
    "Customer=dbFoodCatering['Customer']\n",
    "\n",
    "Customer.insert_many([{'_id':1,'customerName':'ali','customerFamily':'alaie','Mobile':'0912000','Address':'Tehran','isActive':1},\n",
    "                      {'_id':2,'customerFamily':'rezaie','Mobile':'0911000','Address':'Esfahan','isActive':1},\n",
    "                      {'_id':3,'customerName':'ahmad','customerFamily':'ahmadi','Mobile':'0913000','Address':'Mashhad','isActive':0},\n",
    "                      {'_id':4,'customerName':'hasan','customerFamily':'hasani','Address':'Shiraz','isActive':1},\n",
    "                      {'_id':5,'customerName':'hosein','customerFamily':'hoseni','Mobile':'0914000','isActive':1},\n",
    "                      {'_id':6,'customerName':'ebrahim','customerFamily':'ebrahimi','Mobile':'0915000','Address':'Tabriz','isActive':0},\n",
    "                      {'_id':7,'customerName':'mohamad','customerFamily':'mohamadi','isActive':1},\n",
    "                      {'_id':8,'customerName':'amin','customerFamily':'amini','Mobile':'0916000','Address':'Ahwaz','isActive':1},\n",
    "                      {'_id':9,'customerName':'arash','customerFamily':'arashi','Mobile':'0917000','Address':'zabol','isActive':1},\n",
    "                      {'_id':10,'customerName':'shahram','customerFamily':'shahi','Mobile':'0918','Address':'hamedan','isActive':0}])\n",
    "for doc in Customer.find():\n",
    "    print(doc)"
   ]
  },
  {
   "cell_type": "code",
   "execution_count": 6,
   "id": "7a05efb1-e4df-411e-a83c-b57522f3d1df",
   "metadata": {},
   "outputs": [
    {
     "name": "stdout",
     "output_type": "stream",
     "text": [
      "{'_id': 101, 'Name': 'Cholo-kabab', 'Detail': 'rice-meat', 'Price': 120}\n",
      "{'_id': 102, 'Name': 'cholo-Morgh', 'Detail': 'rice-chiken', 'Price': 100}\n",
      "{'_id': 103, 'Name': 'cholo-Khoresh-gheme', 'Detail': 'rice-meat-been', 'Price': 80}\n",
      "{'_id': 104, 'Name': 'cholo-khoresh-bademjan', 'Detail': 'rice-eggplant', 'Price': 80}\n",
      "{'_id': 105, 'Name': 'tahchin', 'Detail': 'chiken-rice', 'Price': 100}\n",
      "{'_id': 106, 'Name': 'khorak-gosht', 'Detail': 'meat-vegetables', 'Price': 220}\n",
      "{'_id': 107, 'Name': 'khorak-morgh', 'Detail': 'chiken-vegetables', 'Price': 180}\n",
      "{'_id': 108, 'Name': 'estamboli', 'Detail': 'rice-vegetables', 'Price': 80}\n",
      "{'_id': 109, 'Name': 'pasta', 'Detail': 'pasta-meat', 'Price': 120}\n",
      "{'_id': 110, 'Name': 'rice', 'Detail': 'rice', 'Price': 40}\n"
     ]
    }
   ],
   "source": [
    "Food=dbFoodCatering['Food']\n",
    "Food.insert_many([{'_id':101,'Name':'Cholo-kabab','Detail':'rice-meat','Price':120},\n",
    "                    {'_id':102,'Name':'cholo-Morgh','Detail':'rice-chiken','Price':100},\n",
    "                    {'_id':103,'Name':'cholo-Khoresh-gheme','Detail':'rice-meat-been','Price':80},\n",
    "                    {'_id':104,'Name':'cholo-khoresh-bademjan','Detail':'rice-eggplant','Price':80},\n",
    "                    {'_id':105,'Name':'tahchin','Detail':'chiken-rice','Price':100},\n",
    "                    {'_id':106,'Name':'khorak-gosht','Detail':'meat-vegetables','Price':220},\n",
    "                    {'_id':107,'Name':'khorak-morgh','Detail':'chiken-vegetables','Price':180},\n",
    "                    {'_id':108,'Name':'estamboli','Detail':'rice-vegetables','Price':80},\n",
    "                    {'_id':109,'Name':'pasta','Detail':'pasta-meat','Price':120},\n",
    "                    {'_id':110,'Name':'rice','Detail':'rice','Price':40}])\n",
    "for doc in Food.find():\n",
    "    print(doc)\n"
   ]
  },
  {
   "cell_type": "code",
   "execution_count": 7,
   "id": "80b6df88-7f9a-45b0-b0b6-f2108c44343a",
   "metadata": {},
   "outputs": [
    {
     "name": "stdout",
     "output_type": "stream",
     "text": [
      "{'_id': 1001, 'Date': '2023-05-04', 'Customer_Id': 1, 'Food_Id': 102}\n",
      "{'_id': 1002, 'Date': '2023-05-04', 'Customer_Id': 6, 'Food_Id': [101, 104, 110]}\n",
      "{'_id': 1003, 'Date': '2023-05-04', 'Customer_Id': 4, 'Food_Id': 107}\n",
      "{'_id': 1004, 'Date': '2023-05-04', 'Customer_Id': 3, 'Food_Id': [107, 101, 109]}\n",
      "{'_id': 1005, 'Date': '2023-05-04', 'Customer_Id': 9, 'Food_Id': [105, 108]}\n",
      "{'_id': 1006, 'Date': '2023-05-04', 'Customer_Id': 8, 'Food_Id': 103}\n",
      "{'_id': 1007, 'Date': '2023-05-05', 'Customer_Id': 10, 'Food_Id': 103}\n",
      "{'_id': 1008, 'Date': '2023-05-05', 'Customer_Id': 2, 'Food_Id': [102, 108]}\n",
      "{'_id': 1009, 'Date': '2023-05-06', 'Customer_Id': 7, 'Food_Id': 110}\n",
      "{'_id': 1010, 'Date': '2023-05-06', 'Customer_Id': 5, 'Food_Id': 107}\n",
      "{'_id': 1011, 'Date': '2023-05-08', 'Customer_Id': 6, 'Food_Id': 103}\n"
     ]
    }
   ],
   "source": [
    "Order=dbFoodCatering['Order']\n",
    "Order.insert_many([{'_id':1001,'Date':'2023-05-04','Customer_Id':1,'Food_Id':102},\n",
    "                    {'_id':1002,'Date':'2023-05-04','Customer_Id':6,'Food_Id':[101,104,110]},\n",
    "                    {'_id':1003,'Date':'2023-05-04','Customer_Id':4,'Food_Id':107},\n",
    "                    {'_id':1004,'Date':'2023-05-04','Customer_Id':3,'Food_Id':[107,101,109]},\n",
    "                    {'_id':1005,'Date':'2023-05-04','Customer_Id':9,'Food_Id':[105,108]},\n",
    "                    {'_id':1006,'Date':'2023-05-04','Customer_Id':8,'Food_Id':103},\n",
    "                    {'_id':1007,'Date':'2023-05-05','Customer_Id':10,'Food_Id':103},\n",
    "                    {'_id':1008,'Date':'2023-05-05','Customer_Id':2,'Food_Id':[102,108]},\n",
    "                    {'_id':1009,'Date':'2023-05-06','Customer_Id':7,'Food_Id':110},\n",
    "                    {'_id':1010,'Date':'2023-05-06','Customer_Id':5,'Food_Id':107},\n",
    "                  {'_id':1011,'Date':'2023-05-08','Customer_Id':6,'Food_Id':103}])\n",
    "for doc in Order.find():\n",
    "    print(doc)"
   ]
  },
  {
   "cell_type": "markdown",
   "id": "a04da472-f96c-45d0-8549-40c60f5d2133",
   "metadata": {},
   "source": [
    "# Query"
   ]
  },
  {
   "cell_type": "markdown",
   "id": "ab0da281-c57c-48bb-815a-057fc6bd95df",
   "metadata": {},
   "source": [
    "### Query 1 Food List"
   ]
  },
  {
   "cell_type": "code",
   "execution_count": 8,
   "id": "69df0de2-3e71-46ba-b4a9-2c4687ed070c",
   "metadata": {},
   "outputs": [
    {
     "name": "stdout",
     "output_type": "stream",
     "text": [
      "{'_id': 106, 'Name': 'khorak-gosht', 'Price': 220}\n",
      "{'_id': 107, 'Name': 'khorak-morgh', 'Price': 180}\n",
      "{'_id': 101, 'Name': 'Cholo-kabab', 'Price': 120}\n",
      "{'_id': 109, 'Name': 'pasta', 'Price': 120}\n",
      "{'_id': 102, 'Name': 'cholo-Morgh', 'Price': 100}\n",
      "{'_id': 105, 'Name': 'tahchin', 'Price': 100}\n",
      "{'_id': 103, 'Name': 'cholo-Khoresh-gheme', 'Price': 80}\n",
      "{'_id': 104, 'Name': 'cholo-khoresh-bademjan', 'Price': 80}\n",
      "{'_id': 108, 'Name': 'estamboli', 'Price': 80}\n",
      "{'_id': 110, 'Name': 'rice', 'Price': 40}\n"
     ]
    }
   ],
   "source": [
    "for doc in Food.find({},{'_id':1,'Name':1,'Price':1}).sort('Price',-1):\n",
    "    print(doc)"
   ]
  },
  {
   "cell_type": "markdown",
   "id": "560b7b27-8eab-43bd-a30e-7f379dd3b778",
   "metadata": {},
   "source": [
    "### Query 2 Active customer"
   ]
  },
  {
   "cell_type": "code",
   "execution_count": 9,
   "id": "af681b9f-d1fe-42b1-9460-229d3eae9855",
   "metadata": {},
   "outputs": [
    {
     "name": "stdout",
     "output_type": "stream",
     "text": [
      "{'customerName': 'ali', 'customerFamily': 'alaie', 'Mobile': '0912000'}\n",
      "{'customerFamily': 'rezaie', 'Mobile': '0911000'}\n",
      "{'customerName': 'hasan', 'customerFamily': 'hasani'}\n",
      "{'customerName': 'hosein', 'customerFamily': 'hoseni', 'Mobile': '0914000'}\n",
      "{'customerName': 'mohamad', 'customerFamily': 'mohamadi'}\n",
      "{'customerName': 'amin', 'customerFamily': 'amini', 'Mobile': '0916000'}\n",
      "{'customerName': 'arash', 'customerFamily': 'arashi', 'Mobile': '0917000'}\n"
     ]
    }
   ],
   "source": [
    "for doc in Customer.find({'isActive':1},{'_id':0,'customerName':1,'customerFamily':1,'Mobile':1}):\n",
    "    print(doc)"
   ]
  },
  {
   "cell_type": "markdown",
   "id": "cf68d424-273d-4de7-9974-1faaf215c73a",
   "metadata": {},
   "source": [
    "### Query 3 Food  120<Price<260"
   ]
  },
  {
   "cell_type": "code",
   "execution_count": 24,
   "id": "3b96a8c4-985b-4bd7-be39-fe1cdb1d72b5",
   "metadata": {},
   "outputs": [
    {
     "name": "stdout",
     "output_type": "stream",
     "text": [
      "{'Name': 'khorak-gosht', 'Price': 220}\n",
      "{'Name': 'khorak-morgh', 'Price': 180}\n"
     ]
    }
   ],
   "source": [
    "for doc in Food.find({'$and':[{'Price':{'$gt':120}},{'Price':{'$lt':260}}]},{'_id':0,'Name':1,'Price':1}):\n",
    "    print(doc)"
   ]
  },
  {
   "cell_type": "markdown",
   "id": "d5e12e2c-69a5-4f6a-af3b-5140e3486552",
   "metadata": {},
   "source": [
    "### Query 4 Order list in date: 2023-05-04"
   ]
  },
  {
   "cell_type": "code",
   "execution_count": 25,
   "id": "b3f97e7c-bfc3-49f9-b952-b90c5170d9c7",
   "metadata": {},
   "outputs": [
    {
     "name": "stdout",
     "output_type": "stream",
     "text": [
      "{'_id': 1001, 'Date': '2023-05-04', 'Customer_Id': 1, 'Food_Id': 102}\n",
      "{'_id': 1002, 'Date': '2023-05-04', 'Customer_Id': 6, 'Food_Id': [101, 104, 110]}\n",
      "{'_id': 1003, 'Date': '2023-05-04', 'Customer_Id': 4, 'Food_Id': 107}\n",
      "{'_id': 1004, 'Date': '2023-05-04', 'Customer_Id': 3, 'Food_Id': [107, 101, 109]}\n",
      "{'_id': 1005, 'Date': '2023-05-04', 'Customer_Id': 9, 'Food_Id': [105, 108]}\n",
      "{'_id': 1006, 'Date': '2023-05-04', 'Customer_Id': 8, 'Food_Id': 103}\n"
     ]
    }
   ],
   "source": [
    "for doc in Order.find({'Date': '2023-05-04'}):\n",
    "    print(doc)"
   ]
  },
  {
   "cell_type": "markdown",
   "id": "8d1cdd27-311f-44aa-8259-4c81e8393a7c",
   "metadata": {},
   "source": [
    "### Query 5 sum of Price of specific Food_Id in specific Date"
   ]
  },
  {
   "cell_type": "code",
   "execution_count": 28,
   "id": "3a2b8844-6ce8-41f2-9cd0-86053c6f34aa",
   "metadata": {},
   "outputs": [
    {
     "name": "stdout",
     "output_type": "stream",
     "text": [
      "{'_id': 101, 'count': 2, 'sum': 240}\n",
      "{'_id': 102, 'count': 1, 'sum': 100}\n",
      "{'_id': 103, 'count': 1, 'sum': 80}\n",
      "{'_id': 104, 'count': 1, 'sum': 80}\n",
      "{'_id': 105, 'count': 1, 'sum': 100}\n",
      "{'_id': 107, 'count': 2, 'sum': 360}\n",
      "{'_id': 108, 'count': 1, 'sum': 80}\n",
      "{'_id': 109, 'count': 1, 'sum': 120}\n",
      "{'_id': 110, 'count': 1, 'sum': 40}\n"
     ]
    }
   ],
   "source": [
    "for doc in Order.aggregate([\n",
    "    {'$match':{'Date':'2023-05-04'}},\n",
    "    {'$unwind':'$Food_Id'},\n",
    "    {'$lookup':{'from':'Food','localField':'Food_Id','foreignField':'_id','as':'FoodName'}},\n",
    "    {'$unwind':'$FoodName'},\n",
    "    {\"$group\":{'_id':'$Food_Id','count':{'$count':{}},'sum':{'$sum':\"$FoodName.Price\"}}},{'$sort':{'_id':1}}]):\n",
    "    print(doc)"
   ]
  },
  {
   "cell_type": "markdown",
   "id": "fadebfbf-4c15-4821-bf59-7a48f86c5dd8",
   "metadata": {},
   "source": [
    "### Query 6 sum of Order for specific person"
   ]
  },
  {
   "cell_type": "code",
   "execution_count": 33,
   "id": "29ba1bda-140a-44dc-ad7d-b7c95a15a2b3",
   "metadata": {},
   "outputs": [
    {
     "name": "stdout",
     "output_type": "stream",
     "text": [
      "{'_id': 6, 'count': 4, 'TotallFoodOrdered': ['Cholo-kabab', 'cholo-khoresh-bademjan', 'rice', 'cholo-Khoresh-gheme']}\n"
     ]
    }
   ],
   "source": [
    "for doc in Order.aggregate([\n",
    "    {'$match':{'Customer_Id':6}},\n",
    "    {'$lookup':{'from':'Food','localField':'Food_Id','foreignField':'_id','as':'FoodName'}},\n",
    "    {'$unwind':'$FoodName'},\n",
    "    {\"$group\":{'_id':'$Customer_Id','count':{'$count':{}},'TotallFoodOrdered':{'$push':\"$FoodName.Name\"}}}\n",
    "    ]):\n",
    "    print(doc)"
   ]
  },
  {
   "cell_type": "markdown",
   "id": "6a319377-dffd-410b-9bcd-b85797220f5f",
   "metadata": {},
   "source": [
    "### Query 6 sum of Order for specific person use $project"
   ]
  },
  {
   "cell_type": "code",
   "execution_count": 58,
   "id": "4cb610c3-7f18-41e6-8777-47171471beeb",
   "metadata": {},
   "outputs": [
    {
     "name": "stdout",
     "output_type": "stream",
     "text": [
      "{'_id': 1011, 'count': 1, 'TotallFoodOrdered': ['cholo-Khoresh-gheme']}\n",
      "{'_id': 1002, 'count': 3, 'TotallFoodOrdered': ['Cholo-kabab', 'cholo-khoresh-bademjan', 'rice']}\n"
     ]
    }
   ],
   "source": [
    "for doc in Order.aggregate([\n",
    "    {'$match':{'Customer_Id':6}},\n",
    "    {'$lookup':{'from':'Food','localField':'Food_Id','foreignField':'_id','as':'FoodName'}},\n",
    "    {'$unwind':'$FoodName'},\n",
    "    {\"$group\":{'_id':'$_id','count':{'$count':{}},'TotallFoodOrdered':{'$push':\"$FoodName.Name\"}}},\n",
    "    {'$project':{'_id':1,'count':1,'TotallFoodOrdered':1}}]):\n",
    "    print(doc)\n"
   ]
  },
  {
   "cell_type": "code",
   "execution_count": null,
   "id": "d440f0a2-dd32-40be-bec9-ba72b6c388b6",
   "metadata": {},
   "outputs": [],
   "source": [
    "client.close()"
   ]
  }
 ],
 "metadata": {
  "kernelspec": {
   "display_name": "Python 3 (ipykernel)",
   "language": "python",
   "name": "python3"
  },
  "language_info": {
   "codemirror_mode": {
    "name": "ipython",
    "version": 3
   },
   "file_extension": ".py",
   "mimetype": "text/x-python",
   "name": "python",
   "nbconvert_exporter": "python",
   "pygments_lexer": "ipython3",
   "version": "3.9.13"
  }
 },
 "nbformat": 4,
 "nbformat_minor": 5
}
